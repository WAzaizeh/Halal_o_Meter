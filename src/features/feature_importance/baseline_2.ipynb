{
 "cells": [
  {
   "cell_type": "code",
   "execution_count": 99,
   "metadata": {},
   "outputs": [],
   "source": [
    "# libraries\n",
    "from numpy import mean\n",
    "from numpy import std\n",
    "import matplotlib.pyplot as plt\n",
    "import seaborn as sns\n",
    "from sklearn.preprocessing import StandardScaler\n",
    "from sklearn.dummy import DummyClassifier\n",
    "from sklearn.pipeline import Pipeline\n",
    "from sklearn.model_selection import cross_val_score\n",
    "from sklearn.model_selection import RepeatedStratifiedKFold\n",
    "from sklearn.metrics import precision_recall_curve\n",
    "from sklearn.metrics import auc\n",
    "from sklearn.metrics import make_scorer\n",
    "from sklearn.tree import DecisionTreeClassifier\n",
    "from sklearn.neighbors import KNeighborsClassifier\n",
    "from sklearn.ensemble import RandomForestClassifier\n",
    "from sklearn.ensemble import ExtraTreesClassifier\n",
    "from sklearn.ensemble import BaggingClassifier\n",
    "import pandas as pd\n",
    "from sklearn.model_selection import train_test_split\n",
    "from sklearn.utils import resample\n",
    "from imblearn.over_sampling import SMOTE"
   ]
  },
  {
   "cell_type": "markdown",
   "metadata": {},
   "source": [
    "## Evaluate the following models versus a dummy classifier:\n",
    "    - Decision Tree (CART)\n",
    "    - k-Nearest Neighbors (KNN)\n",
    "    - Bagged Decision Trees (BAG)\n",
    "    - Random Forest (RF)\n",
    "    - Extra Trees (ET)"
   ]
  },
  {
   "cell_type": "code",
   "execution_count": 17,
   "metadata": {},
   "outputs": [],
   "source": [
    "# load the dataset\n",
    "def load_dataset(file_path):\n",
    "    # load the dataset as a dataframe\n",
    "    data_df = pd.read_pickle(file_path)\n",
    "    # split into features and target\n",
    "    X, y = data_df.drop('halal', axis=1), data_df.halal\n",
    "    return X, y\n",
    "\n",
    "# calculate precision-recall area under curve\n",
    "def pr_auc(y_true, probas_pred):\n",
    "   # calculate precision-recall curve\n",
    "   p, r, _ = precision_recall_curve(y_true, probas_pred)\n",
    "   # calculate area under curve\n",
    "   return auc(r, p)\n",
    "\n",
    "# evaluate a model\n",
    "def evaluate_model(X, y, model):\n",
    "    # define evaluation procedure\n",
    "    cv = RepeatedStratifiedKFold(n_splits=10, n_repeats=3)\n",
    "    # define the model evaluation the metric\n",
    "    metric = make_scorer(pr_auc, needs_proba=True)\n",
    "    # evaluate model\n",
    "    scores = cross_val_score(model, X, y, scoring=metric, cv=cv, n_jobs=-1)\n",
    "    return scores\n",
    "\n",
    "# define models to test\n",
    "def get_models():\n",
    "    models, names = list(), list()\n",
    "    # BASE\n",
    "    models.append(DummyClassifier(strategy='constant', constant=1))\n",
    "    names.append('BASE')\n",
    "    # CART\n",
    "    models.append(DecisionTreeClassifier())\n",
    "    names.append('CART')\n",
    "    # KNN\n",
    "    steps = [('s',StandardScaler()),('m',KNeighborsClassifier())]\n",
    "    models.append(Pipeline(steps=steps))\n",
    "    names.append('KNN')\n",
    "    # Bagging\n",
    "    models.append(BaggingClassifier(n_estimators=4))\n",
    "    names.append('BAG')\n",
    "    # RF\n",
    "    models.append(RandomForestClassifier(n_estimators=4))\n",
    "    names.append('RF')\n",
    "    # ET\n",
    "    models.append(ExtraTreesClassifier(n_estimators=4))\n",
    "    names.append('ET')\n",
    "    return models, names"
   ]
  },
  {
   "cell_type": "code",
   "execution_count": 54,
   "metadata": {},
   "outputs": [
    {
     "name": "stdout",
     "output_type": "stream",
     "text": [
      ">BASE 0.866 (0.003)\n",
      ">CART 0.885 (0.017)\n",
      ">KNN 0.912 (0.022)\n",
      ">BAG 0.895 (0.024)\n",
      ">RF 0.895 (0.019)\n",
      ">ET 0.891 (0.021)\n"
     ]
    },
    {
     "data": {
      "image/png": "[encoded data removed]",
      "text/plain": [
       "<Figure size 720x576 with 1 Axes>"
      ]
     },
     "metadata": {},
     "output_type": "display_data"
    }
   ],
   "source": [
    "# define the location of the dataset\n",
    "file_path = '/Users/wesamazaizeh/Desktop/Projects/halal_o_meter/src/features/feature_engineering/features_draft_1.pkl'\n",
    "# load the dataset\n",
    "X, y = load_dataset(file_path)\n",
    "# define models\n",
    "models, names = get_models()\n",
    "results = list()\n",
    "# evaluate each model\n",
    "for i, model in enumerate(models):\n",
    "    # evaluate the model and store results\n",
    "    scores = evaluate_model(X, y, model)\n",
    "    results.append(scores)\n",
    "    # summarize performance\n",
    "    print('>%s %.3f (%.3f)' % (names[i], mean(scores), std(scores)))\n",
    "# plot the results\n",
    "plot_df = pd.DataFrame(columns=['models', 'results'])\n",
    "plot_df['models'] = names\n",
    "plot_df['results'] = [result.tolist() for result in results]\n",
    "plot_df['mean'] = plot_df['results'].apply(mean)\n",
    "plot_df['sd'] = plot_df['results'].apply(std)\n",
    "ax = plot_df.plot(kind='bar', y='mean', x='models', yerr='sd', legend=False, figsize=(10,8))\n",
    "ax.set_title('Model performance', size=14)\n",
    "ax.set_xlabel('Model', size=14)\n",
    "ax.set_ylabel('Area under precision-recall curve', size=14)\n",
    "plt.show()"
   ]
  },
  {
   "cell_type": "markdown",
   "metadata": {},
   "source": [
    "## Evaluate these resampling techniques versus the original dataset:\n",
    "    - oversample minority class\n",
    "    - undersample majority class\n",
    "    - generate synthetic samples"
   ]
  },
  {
   "cell_type": "code",
   "execution_count": 111,
   "metadata": {},
   "outputs": [],
   "source": [
    "# define resampling method\n",
    "def split_and_resample(X, y, resampling):\n",
    "    # setting up testing and training sets\n",
    "    X_train, X_test, y_train, y_test = train_test_split(X, y, test_size=0.25, random_state=27)\n",
    "    # concatenate our training data back together\n",
    "    X = pd.concat([X_train, y_train], axis=1)\n",
    "    # separate minority and majority classes\n",
    "    min_class = X[X.halal==X.halal.value_counts().sort_values().index[0]]\n",
    "    max_class = X[X.halal==X.halal.value_counts().sort_values().index[1]]\n",
    "    # oversampling minority\n",
    "    if resampling == 'oversample':\n",
    "        new_min_class = resample(min_class, replace=True, n_samples=(len(max_class)))\n",
    "        upsampled = pd.concat([max_class, new_min_class])\n",
    "        return upsampled.drop('halal', axis=1), upsampled.halal, y_train, y_test\n",
    "    elif resampling == 'undersample':\n",
    "        new_max_class = resample(max_class, replace=True, n_samples=(len(min_class)))\n",
    "        downsampled = pd.concat([new_max_class, min_class])\n",
    "        return downsampled.drop('halal', axis=1), downsampled.halal, y_train, y_test\n",
    "    elif resampling == 'SMOTE':\n",
    "        X_train, y_train = SMOTE().fit_sample(X_train, y_train)\n",
    "        return X_train, y_train, y_train, y_test"
   ]
  },
  {
   "cell_type": "code",
   "execution_count": 125,
   "metadata": {
    "scrolled": false
   },
   "outputs": [
    {
     "name": "stdout",
     "output_type": "stream",
     "text": [
      ">oversample 0.921 (0.018)\n",
      ">undersample 0.756 (0.056)\n",
      ">SMOTE 0.773 (0.037)\n"
     ]
    },
    {
     "data": {
      "image/png": "[encoded data removed]",
      "text/plain": [
       "<Figure size 720x576 with 1 Axes>"
      ]
     },
     "metadata": {},
     "output_type": "display_data"
    }
   ],
   "source": [
    "# define the location of the dataset\n",
    "file_path = '/Users/wesamazaizeh/Desktop/Projects/halal_o_meter/src/features/feature_engineering/features_draft_1.pkl'\n",
    "# load the dataset\n",
    "X, y = load_dataset(file_path)\n",
    "# define resampling\n",
    "resampling = ['oversample', 'undersample', 'SMOTE']\n",
    "results = list()\n",
    "# evaluate each resampling method using CART\n",
    "model = DecisionTreeClassifier()\n",
    "for method in resampling:\n",
    "    # split and resample data\n",
    "    X_train, y_train, X_test, y_test = split_and_resample(X, y, method)\n",
    "    # evalue using resampled data\n",
    "    scores = evaluate_model(X_train, y_train, model)\n",
    "    results.append(scores)\n",
    "    print('>%s %.3f (%.3f)' % (method, mean(scores), std(scores)))\n",
    "# plot the results\n",
    "plot_df = pd.DataFrame(columns=['resampling', 'results'])\n",
    "plot_df['resampling'] = resampling\n",
    "plot_df['results'] = [result.tolist() for result in results]\n",
    "plot_df['mean'] = plot_df['results'].apply(mean)\n",
    "plot_df['sd'] = plot_df['results'].apply(std)\n",
    "ax = plot_df.plot(kind='bar', y='mean', x='resampling', yerr='sd', legend=False, figsize=(10,8))\n",
    "ax.set_title('Resampling performance', size=14)\n",
    "ax.set_xlabel('Model', size=14)\n",
    "ax.set_ylabel('Area under precision-recall curve', size=14)\n",
    "plt.show()"
   ]
  },
  {
   "cell_type": "code",
   "execution_count": null,
   "metadata": {},
   "outputs": [],
   "source": []
  }
 ],
 "metadata": {
  "kernelspec": {
   "display_name": "Spacy_env",
   "language": "python",
   "name": "spacy_env"
  },
  "language_info": {
   "codemirror_mode": {
    "name": "ipython",
    "version": 3
   },
   "file_extension": ".py",
   "mimetype": "text/x-python",
   "name": "python",
   "nbconvert_exporter": "python",
   "pygments_lexer": "ipython3",
   "version": "3.6.10"
  }
 },
 "nbformat": 4,
 "nbformat_minor": 2
}
