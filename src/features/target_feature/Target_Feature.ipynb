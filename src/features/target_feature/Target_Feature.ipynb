{
 "cells": [
  {
   "cell_type": "markdown",
   "metadata": {},
   "source": [
    "# Libraries"
   ]
  },
  {
   "cell_type": "code",
   "execution_count": 95,
   "metadata": {
    "collapsed": true,
    "scrolled": false
   },
   "outputs": [],
   "source": [
    "## libraries\n",
    "import sys\n",
    "import os\n",
    "import pandas as pd\n",
    "import seaborn as sns\n",
    "import string\n",
    "import matplotlib.pyplot as plt\n",
    "from wordcloud import WordCloud, STOPWORDS\n",
    "import re\n",
    "import numpy as np\n",
    "from math import cos, asin, sqrt\n",
    "import time\n",
    "from difflib import SequenceMatcher\n",
    "\n",
    "\n",
    "%matplotlib inline\n",
    "\n",
    "# to import Database class from data_collection folder\n",
    "module_path = os.path.abspath(os.path.join('..'))\n",
    "if module_path not in sys.path:\n",
    "    sys.path.append(module_path)\n",
    "\n",
    "# now that the folder is in the path, ../data_collection/database.py can be imported\n",
    "from database import Database"
   ]
  },
  {
   "cell_type": "markdown",
   "metadata": {},
   "source": [
    "# List of Restaurants-of-Interest"
   ]
  },
  {
   "cell_type": "code",
   "execution_count": 63,
   "metadata": {
    "scrolled": false
   },
   "outputs": [
    {
     "name": "stdout",
     "output_type": "stream",
     "text": [
      "- 5092 reviews contained the word Halal were scraped\n",
      "- These reviews are from 838 restaurants\n"
     ]
    },
    {
     "data": {
      "image/png": "[encoded data removed]",
      "text/plain": [
       "<Figure size 720x720 with 1 Axes>"
      ]
     },
     "metadata": {
      "needs_background": "light"
     },
     "output_type": "display_data"
    }
   ],
   "source": [
    "db = Database()\n",
    "\n",
    "# get halal-reviews (reviews that include the word 'halal')\n",
    "reviews_sql = '''SELECT * FROM reviews'''\n",
    "reviews_df = db.select_df(reviews_sql)\n",
    "print('- {} reviews contained the word Halal were scraped'.format(reviews_df.shape[0]))\n",
    "\n",
    "# how many restaurants do these reviews cover\n",
    "res_num = reviews_df['restaurant_id'].nunique()\n",
    "print('- These reviews are from {} restaurants'.format(res_num))\n",
    "\n",
    "# add column with num of scraped reviews per business\n",
    "counts = reviews_df.restaurant_id.value_counts()\n",
    "yelp_df = yelp_df.assign(halal_review_count=yelp_df.platform_id.map(dict(zip(counts.index, counts.values))))\n",
    "yelp_df.halal_review_count = yelp_df.halal_review_count.fillna(0)\n",
    "\n",
    "# plot histogram of counts per restaurant\n",
    "plt.figure(figsize=(10,10))\n",
    "g = sns.distplot(yelp_df.halal_review_count, kde = False)\n",
    "g.set_title('Distribution of halal-reviews per Yelp business', size=14)\n",
    "g.set_xlabel('Halal review count', size=14)\n",
    "g.set_ylabel('Count of incidences', size=14)\n",
    "# plt.plot([3, 3],[0, 3500], linewidth=2, linestyle='dashed', color='r') # cutoff between 2 & 5. To remove noise\n",
    "plt.show()"
   ]
  },
  {
   "cell_type": "markdown",
   "metadata": {},
   "source": [
    "# Match with Zabiha list\n",
    "## Match based on name similarity an distance\n",
    "### 1. Add coordinates and image_url data to restaurants of interest from Yelp"
   ]
  },
  {
   "cell_type": "code",
   "execution_count": 10,
   "metadata": {},
   "outputs": [
    {
     "name": "stderr",
     "output_type": "stream",
     "text": [
      "/Users/wesamazaizeh/miniconda3/envs/spacy_env/lib/python3.6/site-packages/ipykernel_launcher.py:13: SettingWithCopyWarning: \n",
      "A value is trying to be set on a copy of a slice from a DataFrame.\n",
      "Try using .loc[row_indexer,col_indexer] = value instead\n",
      "\n",
      "See the caveats in the documentation: https://pandas.pydata.org/pandas-docs/stable/user_guide/indexing.html#returning-a-view-versus-a-copy\n",
      "  del sys.path[0]\n"
     ]
    },
    {
     "name": "stdout",
     "output_type": "stream",
     "text": [
      "[838/838] id:SjjyWMp91IZO2f4pgj5gCg\r"
     ]
    }
   ],
   "source": [
    "import Yelp_business_search\n",
    "import json\n",
    "\n",
    "# get yelp businesses\n",
    "yelp_sql = '''SELECT * FROM businesses WHERE url LIKE '%yelp%' '''\n",
    "yelp_df = db.select_df(yelp_sql)\n",
    "\n",
    "halal_mask = yelp_df['platform_id'].isin(reviews_df['restaurant_id'].unique())\n",
    "halal_df = yelp_df[halal_mask]\n",
    "\n",
    "c=0\n",
    "halal_df['image_url'] = None\n",
    "for i, yelp_id in halal_df['platform_id'].iteritems():\n",
    "    if pd.isna(halal_df.loc[i, 'image_url']):\n",
    "        try:\n",
    "            row = Yelp_business_search.get_yelp_business_details(yelp_id)\n",
    "            halal_df.loc[i, 'image_url'] = row['image_url']\n",
    "            halal_df.loc[i, 'lat'] = row['lat']\n",
    "            halal_df.loc[i, 'lng'] = row['lng']\n",
    "            time.sleep(0.2)\n",
    "        except: # some API requests fail randomly and retry seems to fix the issue\n",
    "            row = Yelp_business_search.get_yelp_business_details(yelp_id)\n",
    "            halal_df.loc[i, 'image_url'] = row['image_url']\n",
    "            halal_df.loc[i, 'lat'] = row['lat']\n",
    "            halal_df.loc[i, 'lng'] = row['lng']\n",
    "            time.sleep(0.2)\n",
    "    c+=1\n",
    "    print('[{0}/{1}] id:{2}'.format(c, halal_df.shape[0], yelp_id), end='\\r', flush=True )"
   ]
  },
  {
   "cell_type": "markdown",
   "metadata": {},
   "source": [
    "### 2. update businesses database with image_url and coordinates columns"
   ]
  },
  {
   "cell_type": "code",
   "execution_count": 87,
   "metadata": {
    "collapsed": true
   },
   "outputs": [],
   "source": [
    "# manually added image_url and lat, lng columns via pgAdmin4\n",
    "\n",
    "db_list = halal_df[['platform_id', 'image_url', 'lat', 'lng']]\n",
    "update_sql = '''UPDATE businesses\n",
    "                SET image_url = (%s),\n",
    "                    lat = (%s),\n",
    "                    lng = (%s)\n",
    "                WHERE platform_id = (%s)'''\n",
    "rows=[tuple(x) for x in db_list.values]\n",
    "db.insert_rows(update_sql, *rows)"
   ]
  },
  {
   "cell_type": "markdown",
   "metadata": {},
   "source": [
    "### 3. Distance and name similarity functions"
   ]
  },
  {
   "cell_type": "code",
   "execution_count": 89,
   "metadata": {
    "collapsed": true
   },
   "outputs": [],
   "source": [
    "def distance(lat1, lon1, lat2, lon2):\n",
    "    p = 0.017453292519943295\n",
    "    a = 0.5 - cos((lat2-lat1)*p)/2 + cos(lat1*p)*cos(lat2*p) * (1-cos((lon2-lon1)*p)) / 2\n",
    "    dist = 12742 * asin(sqrt(a)) # [km]\n",
    "    return dist\n",
    "\n",
    "def closest(v, data):\n",
    "    return min(data, key=lambda p: distance(v['lat'],v['lng'],data[p]['lat'],data[p]['lng']))\n",
    "\n",
    "\n",
    "def similarity_score(name1, name2):\n",
    "    s = SequenceMatcher(None, name1, name2).ratio()\n",
    "    return s"
   ]
  },
  {
   "cell_type": "markdown",
   "metadata": {},
   "source": [
    "### 4. Import Zabiha & MFoodies CSVs. Then, find closest Zabiha/ MFoodies to each restaurant-of-interest and name similairty score"
   ]
  },
  {
   "cell_type": "code",
   "execution_count": 96,
   "metadata": {},
   "outputs": [
    {
     "name": "stdout",
     "output_type": "stream",
     "text": [
      "Progress: 838/838\r"
     ]
    }
   ],
   "source": [
    "#  import Zabiha & MFoodies lists\n",
    "zabiha_df = pd.read_csv('/Users/wesamazaizeh/Desktop/Projects/halal_o_meter/src/data/data_collection/target_feature/zabiha_list.csv')\n",
    "zabiha_df['lat'] = zabiha_df['coordinates'].apply(lambda x: float(x.split(',')[0]))\n",
    "zabiha_df['lng'] = zabiha_df['coordinates'].apply(lambda x: float(x.split(',')[1]))\n",
    "\n",
    "mfoodies_df = pd.read_csv('/Users/wesamazaizeh/Desktop/Projects/halal_o_meter/src/data/data_collection/target_feature/muslim_foodies_list.csv')\n",
    "mfoodies_df['lat'] = zabiha_df['coordinates'].apply(lambda x: float(x.split(',')[0]))\n",
    "mfoodies_df['lng'] = zabiha_df['coordinates'].apply(lambda x: float(x.split(',')[1]))\n",
    "\n",
    "# make dict for faster processing\n",
    "halal_dict = {row['name']: {'lat' : row.lat, 'lng' : row.lng}  for _,row in halal_df.iterrows()}\n",
    "zabiha_dict = {row['name']: {'lat' : row.lat, 'lng' : row.lng}  for _,row in zabiha_df.iterrows()}\n",
    "mfoodies_dict = {row['name']: {'lat' : row.lat, 'lng' : row.lng}  for _,row in mfoodies_df.iterrows()}\n",
    "\n",
    "\n",
    "# find closest Zabiha/ Mfoodies to each restaurant-of-interest and calculate name similarity\n",
    "c=0\n",
    "for i, res_name in halal_df['name'].iteritems():\n",
    "    res1 = closest(halal_dict[res_name], zabiha_dict)\n",
    "    halal_df.loc[i, 'zabiha_name'] = res1\n",
    "    halal_df.loc[i, 'zabiha_lat'] = zabiha_dict[res1]['lat']\n",
    "    halal_df.loc[i, 'zabiha_lng'] = zabiha_dict[res1]['lng']\n",
    "    halal_df.loc[i, 'zabiha_distance'] = distance(halal_df.loc[i, 'lat'], halal_df.loc[i, 'lng'],\n",
    "                                           zabiha_dict[res1]['lat'], zabiha_dict[res1]['lng'])\n",
    "    halal_df.loc[i, 'zabiha_similarity'] = similarity_score(res_name, res1)\n",
    "    \n",
    "    res2 = closest(halal_dict[res_name], mfoodies_dict)\n",
    "    halal_df.loc[i, 'mfoodies_name'] = res2\n",
    "    halal_df.loc[i, 'mfoodies_lat'] = mfoodies_dict[res2]['lat']\n",
    "    halal_df.loc[i, 'mfoodies_lng'] = mfoodies_dict[res2]['lng']\n",
    "    halal_df.loc[i, 'mfoodies_distance'] = distance(halal_df.loc[i, 'lat'], halal_df.loc[i, 'lng'],\n",
    "                                           mfoodies_dict[res2]['lat'], mfoodies_dict[res2]['lng'])\n",
    "    halal_df.loc[i, 'mfoodies_similarity'] = similarity_score(res_name, res2)\n",
    "    c+=1\n",
    "    print('Progress: {0}/{1}'.format(c, halal_df.shape[0]), end='\\r', flush=True)"
   ]
  },
  {
   "cell_type": "markdown",
   "metadata": {},
   "source": [
    "### 5. Plot distance vs name similarity score for restaurants-of-interest and find threshold"
   ]
  },
  {
   "cell_type": "code",
   "execution_count": 114,
   "metadata": {},
   "outputs": [
    {
     "data": {
      "image/png": "[encoded data removed]",
      "text/plain": [
       "<Figure size 720x720 with 3 Axes>"
      ]
     },
     "metadata": {
      "needs_background": "light"
     },
     "output_type": "display_data"
    }
   ],
   "source": [
    "plot_df  = pd.DataFrame(columns=['platform_id', 'name', 'match_name', 'distance', 'name_similarity'])\n",
    "plot_df[['platform_id', 'name']] = halal_df[['platform_id', 'name']]\n",
    "plot_df.index = halal_df.index\n",
    "\n",
    "for i, row in halal_df.iterrows():\n",
    "    if row['zabiha_distance'] < row['mfoodies_distance']:\n",
    "        plot_df.loc[i, ['match_name', 'distance', 'name_similarity']] = row[['zabiha_name', 'zabiha_distance', 'zabiha_similarity']].tolist()\n",
    "    else:\n",
    "        plot_df.loc[i, ['match_name', 'distance', 'name_similarity']] = row[['mfoodies_name', 'mfoodies_distance', 'mfoodies_similarity']].tolist()\n",
    "\n",
    "a = sns.jointplot(y='name_similarity', x='distance', data=plot_df, height=10)\n",
    "plt.show()"
   ]
  },
  {
   "cell_type": "code",
   "execution_count": 152,
   "metadata": {},
   "outputs": [
    {
     "data": {
      "image/png": "[encoded data removed]",
      "text/plain": [
       "<Figure size 720x432 with 1 Axes>"
      ]
     },
     "metadata": {
      "needs_background": "light"
     },
     "output_type": "display_data"
    },
    {
     "name": "stdout",
     "output_type": "stream",
     "text": [
      "\u001b[1m- Filter by distance less than to 400m and similarity score greater than 50%\u001b[0m\n"
     ]
    }
   ],
   "source": [
    "plt.figure(figsize=(10,6))\n",
    "sns.scatterplot(plot_df['distance'], plot_df['name_similarity'])\n",
    "plt.xlim(0,0.05) \n",
    "plt.gca().fill_between((0,0.04), 0.5, 1, alpha=0.1) # within 170 meters and above 50% similarity\n",
    "plt.show()\n",
    "\n",
    "print('\\033[1m- Filter by distance less than to 400m and similarity score greater than 50%\\033[0m')"
   ]
  },
  {
   "cell_type": "code",
   "execution_count": 153,
   "metadata": {},
   "outputs": [
    {
     "name": "stdout",
     "output_type": "stream",
     "text": [
      "\u001b[1m89 restaurants best match Zabiha & MFoodies based on coordinate distance and name similarity\u001b[0m\n"
     ]
    },
    {
     "data": {
      "text/html": [
       "<div>\n",
       "<style scoped>\n",
       "    .dataframe tbody tr th:only-of-type {\n",
       "        vertical-align: middle;\n",
       "    }\n",
       "\n",
       "    .dataframe tbody tr th {\n",
       "        vertical-align: top;\n",
       "    }\n",
       "\n",
       "    .dataframe thead th {\n",
       "        text-align: right;\n",
       "    }\n",
       "</style>\n",
       "<table border=\"1\" class=\"dataframe\">\n",
       "  <thead>\n",
       "    <tr style=\"text-align: right;\">\n",
       "      <th></th>\n",
       "      <th>platform_id</th>\n",
       "      <th>name</th>\n",
       "      <th>match_name</th>\n",
       "      <th>distance</th>\n",
       "      <th>name_similarity</th>\n",
       "    </tr>\n",
       "  </thead>\n",
       "  <tbody>\n",
       "    <tr>\n",
       "      <th>2</th>\n",
       "      <td>ctVgx_mIwt2Fwc48Pgjhlw</td>\n",
       "      <td>Gyro Mania</td>\n",
       "      <td>Gyro Mania</td>\n",
       "      <td>0.00688369</td>\n",
       "      <td>1</td>\n",
       "    </tr>\n",
       "    <tr>\n",
       "      <th>20</th>\n",
       "      <td>FdB6KDTEmX8HvomPwySAHg</td>\n",
       "      <td>Joloff Restaurant</td>\n",
       "      <td>Joloff</td>\n",
       "      <td>0.0134011</td>\n",
       "      <td>0.521739</td>\n",
       "    </tr>\n",
       "    <tr>\n",
       "      <th>22</th>\n",
       "      <td>KjqBMZ0bE9VV2VP3DrDZvg</td>\n",
       "      <td>First Oasis</td>\n",
       "      <td>First Oasis</td>\n",
       "      <td>0.0104265</td>\n",
       "      <td>1</td>\n",
       "    </tr>\n",
       "    <tr>\n",
       "      <th>30</th>\n",
       "      <td>R2VSWR_2bNhfchNqdgQR2g</td>\n",
       "      <td>Abir Halal Restaurant</td>\n",
       "      <td>Abir Halal</td>\n",
       "      <td>0.00383252</td>\n",
       "      <td>0.645161</td>\n",
       "    </tr>\n",
       "    <tr>\n",
       "      <th>36</th>\n",
       "      <td>M45jHhTaU6ePHDEibXk9nQ</td>\n",
       "      <td>Halal Paradise</td>\n",
       "      <td>Halal Paradise Truck</td>\n",
       "      <td>0.0295725</td>\n",
       "      <td>0.823529</td>\n",
       "    </tr>\n",
       "  </tbody>\n",
       "</table>\n",
       "</div>"
      ],
      "text/plain": [
       "               platform_id                   name            match_name  \\\n",
       "2   ctVgx_mIwt2Fwc48Pgjhlw             Gyro Mania            Gyro Mania   \n",
       "20  FdB6KDTEmX8HvomPwySAHg      Joloff Restaurant                Joloff   \n",
       "22  KjqBMZ0bE9VV2VP3DrDZvg            First Oasis           First Oasis   \n",
       "30  R2VSWR_2bNhfchNqdgQR2g  Abir Halal Restaurant            Abir Halal   \n",
       "36  M45jHhTaU6ePHDEibXk9nQ         Halal Paradise  Halal Paradise Truck   \n",
       "\n",
       "      distance name_similarity  \n",
       "2   0.00688369               1  \n",
       "20   0.0134011        0.521739  \n",
       "22   0.0104265               1  \n",
       "30  0.00383252        0.645161  \n",
       "36   0.0295725        0.823529  "
      ]
     },
     "execution_count": 153,
     "metadata": {},
     "output_type": "execute_result"
    }
   ],
   "source": [
    "# sample of restaurants inside the shaded area\n",
    "matched_df = plot_df[(plot_df['distance'] < 0.04) & (plot_df['name_similarity'] > 0.5)]\n",
    "print('\\033[1m{} restaurants best match Zabiha & MFoodies based on coordinate distance and name similarity\\033[0m'.format(matched_df.shape[0]))\n",
    "matched_df.head()"
   ]
  },
  {
   "cell_type": "markdown",
   "metadata": {},
   "source": [
    "### 6. Label matched restaurants and ones with 'halal' in the name"
   ]
  },
  {
   "cell_type": "code",
   "execution_count": 204,
   "metadata": {},
   "outputs": [
    {
     "data": {
      "text/plain": [
       "234"
      ]
     },
     "execution_count": 204,
     "metadata": {},
     "output_type": "execute_result"
    }
   ],
   "source": [
    "halal_df['halal'] = halal_df.apply(lambda row: True if row['platform_id'] in matched_df['platform_id'].tolist() else False, axis=1)\n",
    "assert halal_df['halal'].sum() == 89\n",
    "\n",
    "halal_df['halal'] = halal_df.apply(lambda row: True if 'halal' in row['name'].lower() else row['halal'], axis=1)\n",
    "assert halal_df2['halal'].sum() == 234"
   ]
  },
  {
   "cell_type": "markdown",
   "metadata": {},
   "source": [
    "### 7. Export to CSV file to manually label rest of restaurants-of-ineterest"
   ]
  },
  {
   "cell_type": "code",
   "execution_count": 314,
   "metadata": {
    "collapsed": true
   },
   "outputs": [],
   "source": [
    "file_path = '/Users/wesamazaizeh/Desktop/Projects/halal_o_meter/src/features/target_feature/label_target.csv'\n",
    "# halal_df.to_csv(file_path, index=False)"
   ]
  },
  {
   "cell_type": "markdown",
   "metadata": {},
   "source": [
    "### 8. Summary after manual labeling"
   ]
  },
  {
   "cell_type": "code",
   "execution_count": 319,
   "metadata": {},
   "outputs": [
    {
     "data": {
      "text/html": [
       "<div>\n",
       "<style scoped>\n",
       "    .dataframe tbody tr th:only-of-type {\n",
       "        vertical-align: middle;\n",
       "    }\n",
       "\n",
       "    .dataframe tbody tr th {\n",
       "        vertical-align: top;\n",
       "    }\n",
       "\n",
       "    .dataframe thead th {\n",
       "        text-align: right;\n",
       "    }\n",
       "</style>\n",
       "<table border=\"1\" class=\"dataframe\">\n",
       "  <thead>\n",
       "    <tr style=\"text-align: right;\">\n",
       "      <th></th>\n",
       "      <th>name</th>\n",
       "      <th>platform_id</th>\n",
       "      <th>url</th>\n",
       "      <th>total_review_count</th>\n",
       "      <th>address</th>\n",
       "      <th>id</th>\n",
       "      <th>image_url</th>\n",
       "      <th>lat</th>\n",
       "      <th>lng</th>\n",
       "      <th>zabiha_name</th>\n",
       "      <th>...</th>\n",
       "      <th>zabiha_distance</th>\n",
       "      <th>zabiha_similarity</th>\n",
       "      <th>mfoodies_name</th>\n",
       "      <th>mfoodies_lat</th>\n",
       "      <th>mfoodies_lng</th>\n",
       "      <th>mfoodies_distance</th>\n",
       "      <th>mfoodies_similarity</th>\n",
       "      <th>halal</th>\n",
       "      <th>note_1</th>\n",
       "      <th>note_2</th>\n",
       "    </tr>\n",
       "  </thead>\n",
       "  <tbody>\n",
       "    <tr>\n",
       "      <th>0</th>\n",
       "      <td>Peri Peri Grill House</td>\n",
       "      <td>KPGZ6zr6lUX9YROjGcUbtw</td>\n",
       "      <td>https://www.yelp.com/biz/peri-peri-grill-house...</td>\n",
       "      <td>146</td>\n",
       "      <td>{\"235 Malcolm X Blvd\",\"Brooklyn, NY 11233\"}</td>\n",
       "      <td>5178</td>\n",
       "      <td>https://s3-media3.fl.yelpcdn.com/bphoto/Pua9bm...</td>\n",
       "      <td>40.684740</td>\n",
       "      <td>-73.929160</td>\n",
       "      <td>Taj Masala</td>\n",
       "      <td>...</td>\n",
       "      <td>0.058642</td>\n",
       "      <td>0.129032</td>\n",
       "      <td>Krave Shack</td>\n",
       "      <td>40.721219</td>\n",
       "      <td>-73.984109</td>\n",
       "      <td>6.157025</td>\n",
       "      <td>0.125000</td>\n",
       "      <td>TRUE</td>\n",
       "      <td>And of course the best part of it all it's��_H...</td>\n",
       "      <td>NaN</td>\n",
       "    </tr>\n",
       "    <tr>\n",
       "      <th>2</th>\n",
       "      <td>Gyro Mania</td>\n",
       "      <td>ctVgx_mIwt2Fwc48Pgjhlw</td>\n",
       "      <td>https://www.yelp.com/biz/gyro-mania-bath-beach...</td>\n",
       "      <td>41</td>\n",
       "      <td>{\"2151 Bath Ave\",\"Bath Beach, NY 11214\"}</td>\n",
       "      <td>5180</td>\n",
       "      <td>https://s3-media4.fl.yelpcdn.com/bphoto/vlTRc6...</td>\n",
       "      <td>40.598944</td>\n",
       "      <td>-73.997939</td>\n",
       "      <td>Gyro Mania</td>\n",
       "      <td>...</td>\n",
       "      <td>0.006884</td>\n",
       "      <td>1.000000</td>\n",
       "      <td>Kabul Kabob House</td>\n",
       "      <td>40.703428</td>\n",
       "      <td>-74.011081</td>\n",
       "      <td>11.670833</td>\n",
       "      <td>0.148148</td>\n",
       "      <td>TRUE</td>\n",
       "      <td>NaN</td>\n",
       "      <td>NaN</td>\n",
       "    </tr>\n",
       "    <tr>\n",
       "      <th>3</th>\n",
       "      <td>Middle Eastern Halal Food</td>\n",
       "      <td>WekK6vHrQZ-81CijH2sGiw</td>\n",
       "      <td>https://www.yelp.com/biz/middle-eastern-halal-...</td>\n",
       "      <td>146</td>\n",
       "      <td>{\"8601 5th Ave\",\"Brooklyn, NY 11209\"}</td>\n",
       "      <td>5182</td>\n",
       "      <td>https://s3-media1.fl.yelpcdn.com/bphoto/Wi3R2J...</td>\n",
       "      <td>40.621258</td>\n",
       "      <td>-74.026194</td>\n",
       "      <td>Your House Caf��Ε�_</td>\n",
       "      <td>...</td>\n",
       "      <td>1.463746</td>\n",
       "      <td>0.146341</td>\n",
       "      <td>Kabul Kabob House</td>\n",
       "      <td>40.703428</td>\n",
       "      <td>-74.011081</td>\n",
       "      <td>9.225376</td>\n",
       "      <td>0.285714</td>\n",
       "      <td>TRUE</td>\n",
       "      <td>In name</td>\n",
       "      <td>NaN</td>\n",
       "    </tr>\n",
       "    <tr>\n",
       "      <th>20</th>\n",
       "      <td>Joloff Restaurant</td>\n",
       "      <td>FdB6KDTEmX8HvomPwySAHg</td>\n",
       "      <td>https://www.yelp.com/biz/joloff-restaurant-bro...</td>\n",
       "      <td>185</td>\n",
       "      <td>{\"1168 Bedford Ave\",\"Brooklyn, NY 11216\"}</td>\n",
       "      <td>5198</td>\n",
       "      <td>https://s3-media3.fl.yelpcdn.com/bphoto/fW320I...</td>\n",
       "      <td>40.684100</td>\n",
       "      <td>-73.954220</td>\n",
       "      <td>Joloff</td>\n",
       "      <td>...</td>\n",
       "      <td>0.013401</td>\n",
       "      <td>0.521739</td>\n",
       "      <td>Krave Shack</td>\n",
       "      <td>40.721219</td>\n",
       "      <td>-73.984109</td>\n",
       "      <td>4.835691</td>\n",
       "      <td>0.142857</td>\n",
       "      <td>TRUE</td>\n",
       "      <td>NaN</td>\n",
       "      <td>NaN</td>\n",
       "    </tr>\n",
       "    <tr>\n",
       "      <th>22</th>\n",
       "      <td>First Oasis</td>\n",
       "      <td>KjqBMZ0bE9VV2VP3DrDZvg</td>\n",
       "      <td>https://www.yelp.com/biz/first-oasis-brooklyn?...</td>\n",
       "      <td>169</td>\n",
       "      <td>{\"9218 4th Ave\",\"Brooklyn, NY 11209\"}</td>\n",
       "      <td>5200</td>\n",
       "      <td>https://s3-media1.fl.yelpcdn.com/bphoto/ETfkHV...</td>\n",
       "      <td>40.618030</td>\n",
       "      <td>-74.030650</td>\n",
       "      <td>First Oasis</td>\n",
       "      <td>...</td>\n",
       "      <td>0.010426</td>\n",
       "      <td>1.000000</td>\n",
       "      <td>Kabul Kabob House</td>\n",
       "      <td>40.703428</td>\n",
       "      <td>-74.011081</td>\n",
       "      <td>9.638222</td>\n",
       "      <td>0.071429</td>\n",
       "      <td>TRUE</td>\n",
       "      <td>NaN</td>\n",
       "      <td>NaN</td>\n",
       "    </tr>\n",
       "  </tbody>\n",
       "</table>\n",
       "<p>5 rows × 22 columns</p>\n",
       "</div>"
      ],
      "text/plain": [
       "                         name             platform_id  \\\n",
       "0       Peri Peri Grill House  KPGZ6zr6lUX9YROjGcUbtw   \n",
       "2                  Gyro Mania  ctVgx_mIwt2Fwc48Pgjhlw   \n",
       "3   Middle Eastern Halal Food  WekK6vHrQZ-81CijH2sGiw   \n",
       "20          Joloff Restaurant  FdB6KDTEmX8HvomPwySAHg   \n",
       "22                First Oasis  KjqBMZ0bE9VV2VP3DrDZvg   \n",
       "\n",
       "                                                  url  total_review_count  \\\n",
       "0   https://www.yelp.com/biz/peri-peri-grill-house...                 146   \n",
       "2   https://www.yelp.com/biz/gyro-mania-bath-beach...                  41   \n",
       "3   https://www.yelp.com/biz/middle-eastern-halal-...                 146   \n",
       "20  https://www.yelp.com/biz/joloff-restaurant-bro...                 185   \n",
       "22  https://www.yelp.com/biz/first-oasis-brooklyn?...                 169   \n",
       "\n",
       "                                        address    id  \\\n",
       "0   {\"235 Malcolm X Blvd\",\"Brooklyn, NY 11233\"}  5178   \n",
       "2      {\"2151 Bath Ave\",\"Bath Beach, NY 11214\"}  5180   \n",
       "3         {\"8601 5th Ave\",\"Brooklyn, NY 11209\"}  5182   \n",
       "20    {\"1168 Bedford Ave\",\"Brooklyn, NY 11216\"}  5198   \n",
       "22        {\"9218 4th Ave\",\"Brooklyn, NY 11209\"}  5200   \n",
       "\n",
       "                                            image_url        lat        lng  \\\n",
       "0   https://s3-media3.fl.yelpcdn.com/bphoto/Pua9bm...  40.684740 -73.929160   \n",
       "2   https://s3-media4.fl.yelpcdn.com/bphoto/vlTRc6...  40.598944 -73.997939   \n",
       "3   https://s3-media1.fl.yelpcdn.com/bphoto/Wi3R2J...  40.621258 -74.026194   \n",
       "20  https://s3-media3.fl.yelpcdn.com/bphoto/fW320I...  40.684100 -73.954220   \n",
       "22  https://s3-media1.fl.yelpcdn.com/bphoto/ETfkHV...  40.618030 -74.030650   \n",
       "\n",
       "            zabiha_name  ...  zabiha_distance  zabiha_similarity  \\\n",
       "0            Taj Masala  ...         0.058642           0.129032   \n",
       "2            Gyro Mania  ...         0.006884           1.000000   \n",
       "3   Your House Caf��Ε�_  ...         1.463746           0.146341   \n",
       "20               Joloff  ...         0.013401           0.521739   \n",
       "22          First Oasis  ...         0.010426           1.000000   \n",
       "\n",
       "        mfoodies_name  mfoodies_lat mfoodies_lng  mfoodies_distance  \\\n",
       "0         Krave Shack     40.721219   -73.984109           6.157025   \n",
       "2   Kabul Kabob House     40.703428   -74.011081          11.670833   \n",
       "3   Kabul Kabob House     40.703428   -74.011081           9.225376   \n",
       "20        Krave Shack     40.721219   -73.984109           4.835691   \n",
       "22  Kabul Kabob House     40.703428   -74.011081           9.638222   \n",
       "\n",
       "    mfoodies_similarity  halal  \\\n",
       "0              0.125000   TRUE   \n",
       "2              0.148148   TRUE   \n",
       "3              0.285714   TRUE   \n",
       "20             0.142857   TRUE   \n",
       "22             0.071429   TRUE   \n",
       "\n",
       "                                               note_1 note_2  \n",
       "0   And of course the best part of it all it's��_H...    NaN  \n",
       "2                                                 NaN    NaN  \n",
       "3                                             In name    NaN  \n",
       "20                                                NaN    NaN  \n",
       "22                                                NaN    NaN  \n",
       "\n",
       "[5 rows x 22 columns]"
      ]
     },
     "execution_count": 319,
     "metadata": {},
     "output_type": "execute_result"
    }
   ],
   "source": [
    "labeled_df = pd.read_csv(file_path, index_col=0)\n",
    "labeled_df.head()"
   ]
  },
  {
   "cell_type": "code",
   "execution_count": 320,
   "metadata": {},
   "outputs": [
    {
     "data": {
      "text/plain": [
       "True     613\n",
       "False    225\n",
       "Name: halal, dtype: int64"
      ]
     },
     "execution_count": 320,
     "metadata": {},
     "output_type": "execute_result"
    }
   ],
   "source": [
    "labeled_df['halal'] = labeled_df['halal'].str.replace('FLASE', 'FALSE')\n",
    "labeled_df['halal'] = labeled_df['halal'].apply(lambda x: True if x =='TRUE' else False)\n",
    "labeled_df['halal'].value_counts()"
   ]
  },
  {
   "cell_type": "markdown",
   "metadata": {},
   "source": [
    "### 9. Possible features\n",
    "#### based on notes from manually labeling the target feature\n",
    "#### (+) seem to be associated with reviews from halal-restaurants. (-) seems to be associated with non-halal restaurants\n",
    "- 'Halal' in business name (+)\n",
    "- [{'LEMMA': 'be'},{'LOWER': 'halal'}] (+)\n",
    "    - more tricky with abbreviations\n",
    "- [{'LOWER': 'halal'}, {'lower': 'guy or guys or truck or trucks'}] (-)\n",
    "    - might need to be more complex as detecting comparison in sentence\n",
    "    - weight of 'halal guys'/ all 'halal'\n",
    "    - 'halal guys sauce'\n",
    "- ['halal chicken'] (-)\n",
    "- ['halal burger'] (+)\n",
    "- ['CreekStone' & 'burger'] (-)\n",
    "- uncertanity in sentence (-)\n",
    "- some of the meats are halal with 'is halal'\n",
    "    - 'only' 'part of' 'some' 'few' (-) \n",
    "- not halal\n",
    "    - negative in sentence is enough or have to use NER to narrow it down\n",
    "- '100% halal' (+) and '50%/98% halal' (-)\n",
    "- non halal terms\n",
    "- halal as noun vs adj\n",
    "    - compare from labeled data\n",
    "- Token frequency count for each category to inform feature extraction "
   ]
  },
  {
   "cell_type": "code",
   "execution_count": 311,
   "metadata": {},
   "outputs": [
    {
     "data": {
      "text/plain": [
       "\"��_Good, but don't think it's worth the extra $$ over a��_halal��_cart.\""
      ]
     },
     "execution_count": 311,
     "metadata": {},
     "output_type": "execute_result"
    }
   ],
   "source": [
    "import random\n",
    "labeled_df.loc[[not x for x in labeled_df['halal']], 'note_1'].iloc[8]"
   ]
  }
 ],
 "metadata": {
  "kernelspec": {
   "display_name": "Spacy_env",
   "language": "python",
   "name": "spacy_env"
  },
  "language_info": {
   "codemirror_mode": {
    "name": "ipython",
    "version": 3
   },
   "file_extension": ".py",
   "mimetype": "text/x-python",
   "name": "python",
   "nbconvert_exporter": "python",
   "pygments_lexer": "ipython3",
   "version": "3.6.10"
  }
 },
 "nbformat": 4,
 "nbformat_minor": 2
}
