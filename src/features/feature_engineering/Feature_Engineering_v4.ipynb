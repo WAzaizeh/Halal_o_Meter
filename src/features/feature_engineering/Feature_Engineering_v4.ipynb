{
 "cells": [
  {
   "cell_type": "markdown",
   "metadata": {},
   "source": [
    "# libraries"
   ]
  },
  {
   "cell_type": "code",
   "execution_count": 17,
   "metadata": {},
   "outputs": [],
   "source": [
    "import sys\n",
    "import os\n",
    "import pandas as pd\n",
    "import seaborn as sns\n",
    "import matplotlib.pyplot as plt\n",
    "import numpy as np\n",
    "import en_core_web_sm\n",
    "from collections import Counter\n",
    "\n",
    "\n",
    "%matplotlib inline\n",
    "\n",
    "# to import Database class from data_collection folder\n",
    "module_path = os.path.abspath(os.path.join('../..')+'/data/data_collection')\n",
    "if module_path not in sys.path:\n",
    "    sys.path.append(module_path)\n",
    "\n",
    "# now that the folder is in the path, ../data_collection/database.py can be imported\n",
    "from database import Database"
   ]
  },
  {
   "cell_type": "markdown",
   "metadata": {},
   "source": [
    "# Import raw features dataframe with Spacy Docs"
   ]
  },
  {
   "cell_type": "code",
   "execution_count": 4,
   "metadata": {},
   "outputs": [],
   "source": [
    "# read pickle of dataframe with all reviews data, including Spacy Doc, and features\n",
    "data_df = pd.read_pickle('/Users/wesamazaizeh/Desktop/Projects/halal_o_meter/src/features/feature_engineering/feature_engineering_v2_last_result.pkl')"
   ]
  },
  {
   "cell_type": "markdown",
   "metadata": {},
   "source": [
    "# Import FP from XGBoost with oversampling model in Baseline_v4"
   ]
  },
  {
   "cell_type": "code",
   "execution_count": 29,
   "metadata": {},
   "outputs": [
    {
     "name": "stdout",
     "output_type": "stream",
     "text": [
      "[('food', 58), ('halal', 51), ('good', 41), ('chicken', 36), ('burger', 35), ('place', 33), ('order', 24), ('great', 21), ('eat', 20), ('fry', 19), ('meat', 17), ('like', 17), ('try', 16), ('restaurant', 14), ('come', 14), ('$', 12), ('time', 12), ('shawarma', 11), ('2', 11), ('service', 11), ('thing', 11), ('beef', 10), ('go', 10), ('look', 10), ('ask', 10), ('price', 10), ('serve', 10), ('indian', 10), ('kosher', 9), ('lunch', 9), ('guy', 9), ('taste', 9), ('bowl', 9), ('know', 8), ('get', 8), ('3', 8), ('include', 8), ('sauce', 8), ('spice', 8), ('menu', 8), ('medium', 8), ('bacon', 8), ('entree', 7), ('sandwich', 7), ('people', 7), ('want', 7), ('salad', 7), ('say', 7), ('star', 7), ('hot', 7)]\n"
     ]
    }
   ],
   "source": [
    "# read pickles\n",
    "FP_list = pd.read_pickle(os.getcwd() + '/FP_list_v2.pkl')\n",
    "TN_list = pd.read_pickle(os.getcwd() + '/TN_list_v2.pkl')\n",
    "\n",
    "# save FP reviews to csv for easier viewing\n",
    "FP_df = data_df.loc[FP_list]\n",
    "TN_df = data_df.loc[TN_list]\n",
    "# FP_df.to_csv(os.getcwd() + '/FP_reviews_v2.csv')\n",
    "\n",
    "# get word frequency\n",
    "def most_common_n(text, n):\n",
    "    nlp = en_core_web_sm.load()\n",
    "    doc = nlp(text) # since I cannot join Doc objects easily I'll combine the strings\n",
    "    #remove stopwords, punctuations, and whitespaces\n",
    "    words = [token.lemma_.lower() for token in doc if token.is_stop != True and token.is_punct != True and token.is_space != True]\n",
    "    word_freq = Counter(words)\n",
    "    common_words = word_freq.most_common(n)\n",
    "    return (common_words)\n",
    "    \n",
    "FP_top_50 = most_common_n(\". \".join(FP_df['review_text']), 50)\n",
    "TN_top_50 = most_common_n(\". \".join(TN_df['review_text']), 50)\n",
    "print(FP_top_50)"
   ]
  },
  {
   "cell_type": "code",
   "execution_count": 30,
   "metadata": {},
   "outputs": [
    {
     "name": "stdout",
     "output_type": "stream",
     "text": [
      "[('food', 148), ('halal', 147), ('good', 118), ('cart', 95), ('chicken', 95), ('like', 87), ('sauce', 78), ('order', 69), ('come', 60), ('place', 55), ('$', 55), ('rice', 55), ('lamb', 53), ('try', 51), ('time', 50), ('eat', 49), ('get', 48), ('meat', 48), ('taste', 44), ('go', 44), ('great', 42), ('sandwich', 39), ('salad', 37), ('know', 36), ('service', 35), ('definitely', 35), ('white', 35), ('restaurant', 34), ('hot', 34), ('platter', 34), ('think', 32), ('guy', 31), ('lunch', 31), ('line', 30), ('delicious', 30), ('dish', 30), ('gyro', 28), ('grill', 28), ('want', 28), ('noodle', 28), ('ask', 27), ('price', 27), ('meal', 26), ('long', 26), ('burger', 26), ('pita', 26), ('day', 25), ('little', 25), ('find', 24), ('fry', 24)]\n"
     ]
    }
   ],
   "source": [
    "print(TN_top_50)"
   ]
  },
  {
   "cell_type": "markdown",
   "metadata": {},
   "source": [
    "### get sentencs around the word halal"
   ]
  },
  {
   "cell_type": "code",
   "execution_count": 36,
   "metadata": {},
   "outputs": [],
   "source": [
    "doc = nlp(\". \".join(FP_df['review_text']))\n",
    "sents = [doc[token.i:token.i-1].sent for token in doc if token.text.lower() == 'halal']"
   ]
  },
  {
   "cell_type": "code",
   "execution_count": 37,
   "metadata": {},
   "outputs": [
    {
     "data": {
      "text/plain": [
       "[For the people concerned about the Halal meat, only the chicken is Halal as per their server.,\n",
       " For the people concerned about the Halal meat, only the chicken is Halal as per their server.,\n",
       " However, i live in oak park and prefer halal/kosher food.,\n",
       " To my knowledge, this is the only halal restaurant in Oak Park.,\n",
       " But, only the chicken is halal, nothing else.,\n",
       " This is conveniently located fast food joint for people close to downtown Oak Park who subscribe to Halal or Kosher lifestyle.\n",
       " ,\n",
       " he use to eat here, and now I went with my Arab friend and he was disgusted because I loveeee middle eastern food and how compare to \"kosher\" how halal food is cheap and tasty .,\n",
       " , I'll go eat normal halal and other food than kosher or god knows what never again.,\n",
       " I've been to many halal and kosher gyro, falafel and shawarma places in NYC,\n",
       " while eating here, they say everything is halal,\n",
       " Definitely recommend this place and also the chicken halal platter is a must.,\n",
       " The Asian Halal next to Panera is fresher and half the price.,\n",
       " These dishes give my beloved Asian Halal Meat around the corner a run for its money.,\n",
       " I would have liked to seen a halal option,\n",
       " They keep it clean and comfortable, with well-trained staff keeping the Penn Station riffraff out (including myself, on the days I'm squatting with my Halal in the terraced plaza outside...,\n",
       " This place is Halal and also BYOB, so the family right next to us were drinking wine, which seemed quite odd.,\n",
       " If you're truly a \"Halal\" spot then just make it strictly that kind of environment.,\n",
       " Nicely done, Swagat Halal!,\n",
       " I highly recommend Swagat Halal to anyone looking for delicious Indian cuisine.,\n",
       " I stumbled on it looking for halal food in Westchester.,\n",
       " It reminds of the bowls from Halal guys and that's a good thing.,\n",
       " , it come with white sauce that tastes like the Halal guy's white sauce.,\n",
       " I love that their beef is halal too - you can tell the meat is clean.,\n",
       " To anyone looking for Halal meat information, Adam was able to let me know that the meat used is supplied from Creekstone Farms and the beef and chicken that are used,\n",
       " are Halal Certified!!!!!,\n",
       " This is a great burger option for those who only eat halal meat,\n",
       " all of their beef is halal.,\n",
       " It's Halal,\n",
       " and they use Halal beef.,\n",
       " Halal =,\n",
       " What drew me into this place besides having a few drinks in me was that it's halal,\n",
       " and I equate halal food with freshness, so here goes...\n",
       " ,\n",
       " Place basically serves frozen food just like any other fast food place except some items are halal.  \n",
       " ,\n",
       " Yes the venue is Halal and a good option for the strictly halal patrons, but for all others, it is just an option with other locales in the neighborhood.,\n",
       " Yes the venue is Halal and a good option for the strictly halal patrons, but for all others, it is just an option with other locales in the neighborhood.,\n",
       " It is a fast food, halal chicken spot.,\n",
       " the chicken and rice is like halal style / tasting so ok .,\n",
       " but I decided to give it a three because it is halal,\n",
       " These guys are a great fast food alternative that's actually halal.,\n",
       " This is definitely a savior for the Columbia U students and staff who are limited to the usual barrage of  Halal trucks and standard counter delis.  ,\n",
       " this is a great addition to the neighborhood filled with halal meat carts and hot dog vendors.,\n",
       " Great burgers especially if you are looking for halal meat in an American style diner.,\n",
       " Also the chicken is sourced from Goffle and the meat is Creekstone making it halal for all those who are concerned about that.  \n",
       " ,\n",
       " Not many places you can get halal burgers around here,\n",
       " They serve pork but their other meats are halal.,\n",
       " but lowkey I think they lied about the meat being halal :(,\n",
       " Best halal beef momos in the area.,\n",
       " They charged me extra $2 for halal turkey bacon.,\n",
       " If you are Muslim and strictly eat halal please don't eat here,\n",
       " Never going here again especially after they lied about serving halal food just for money.,\n",
       " And it's all halal.]"
      ]
     },
     "execution_count": 37,
     "metadata": {},
     "output_type": "execute_result"
    }
   ],
   "source": [
    "sents"
   ]
  },
  {
   "cell_type": "code",
   "execution_count": null,
   "metadata": {},
   "outputs": [],
   "source": []
  }
 ],
 "metadata": {
  "kernelspec": {
   "display_name": "Spacy_env",
   "language": "python",
   "name": "spacy_env"
  },
  "language_info": {
   "codemirror_mode": {
    "name": "ipython",
    "version": 3
   },
   "file_extension": ".py",
   "mimetype": "text/x-python",
   "name": "python",
   "nbconvert_exporter": "python",
   "pygments_lexer": "ipython3",
   "version": "3.6.10"
  }
 },
 "nbformat": 4,
 "nbformat_minor": 2
}
