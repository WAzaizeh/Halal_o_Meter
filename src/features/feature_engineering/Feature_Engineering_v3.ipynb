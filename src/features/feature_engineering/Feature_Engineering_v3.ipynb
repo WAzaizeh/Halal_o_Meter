{
 "cells": [
  {
   "cell_type": "markdown",
   "metadata": {},
   "source": [
    "# libraries"
   ]
  },
  {
   "cell_type": "code",
   "execution_count": 1,
   "metadata": {},
   "outputs": [],
   "source": [
    "import sys\n",
    "import os\n",
    "import pandas as pd\n",
    "import seaborn as sns\n",
    "import matplotlib.pyplot as plt\n",
    "import numpy as np\n",
    "import en_core_web_sm\n",
    "from spacy.matcher import Matcher\n",
    "from spacy.matcher import PhraseMatcher\n",
    "from spacy import displacy\n",
    "\n",
    "\n",
    "%matplotlib inline\n",
    "\n",
    "# to import Database class from data_collection folder\n",
    "module_path = os.path.abspath(os.path.join('../..')+'/data/data_collection')\n",
    "if module_path not in sys.path:\n",
    "    sys.path.append(module_path)\n",
    "\n",
    "# now that the folder is in the path, ../data_collection/database.py can be imported\n",
    "from storage_managers.database import Database"
   ]
  },
  {
   "cell_type": "markdown",
   "metadata": {},
   "source": [
    "# Import reviews data and target feature"
   ]
  },
  {
   "cell_type": "code",
   "execution_count": 5,
   "metadata": {},
   "outputs": [],
   "source": [
    "db = Database()\n",
    "\n",
    "# get halal-reviews (reviews that include the word 'halal')\n",
    "reviews_sql = '''SELECT * FROM reviews'''\n",
    "reviews_df = db.select_df(reviews_sql)"
   ]
  },
  {
   "cell_type": "code",
   "execution_count": 6,
   "metadata": {
    "scrolled": true
   },
   "outputs": [],
   "source": [
    "# clean up review data and group by restaurant\n",
    "\n",
    "# drop Aya Kitchen\n",
    "aya_id = 'y6BfLt9Gvrq2JsJvjkjdIQ'\n",
    "reviews_df.drop(reviews_df[reviews_df['restaurant_id'] == aya_id].index, inplace=True)\n",
    "\n",
    "# group reviews per restaurant\n",
    "grouped_reviews_df = reviews_df.groupby('restaurant_id').agg(lambda x: ' '.join(x)) # combine review text\n",
    "grouped_reviews_df['review_count'] = grouped_reviews_df['review_date'].apply(lambda x: len(x)) # count reviews per restaurnat"
   ]
  },
  {
   "cell_type": "code",
   "execution_count": 7,
   "metadata": {},
   "outputs": [
    {
     "data": {
      "text/html": [
       "<div>\n",
       "<style scoped>\n",
       "    .dataframe tbody tr th:only-of-type {\n",
       "        vertical-align: middle;\n",
       "    }\n",
       "\n",
       "    .dataframe tbody tr th {\n",
       "        vertical-align: top;\n",
       "    }\n",
       "\n",
       "    .dataframe thead th {\n",
       "        text-align: right;\n",
       "    }\n",
       "</style>\n",
       "<table border=\"1\" class=\"dataframe\">\n",
       "  <thead>\n",
       "    <tr style=\"text-align: right;\">\n",
       "      <th></th>\n",
       "      <th>review_text</th>\n",
       "      <th>review_date</th>\n",
       "      <th>review_count</th>\n",
       "    </tr>\n",
       "    <tr>\n",
       "      <th>restaurant_id</th>\n",
       "      <th></th>\n",
       "      <th></th>\n",
       "      <th></th>\n",
       "    </tr>\n",
       "  </thead>\n",
       "  <tbody>\n",
       "    <tr>\n",
       "      <th>-6tSx9IXwt1btreBtcyZ0g</th>\n",
       "      <td>Mexican Corn Dogs is very tasty.\\nSausage Plat...</td>\n",
       "      <td>3/8/2020 3/23/2020 1/24/2020 3/10/2019 7/11/20...</td>\n",
       "      <td>117</td>\n",
       "    </tr>\n",
       "    <tr>\n",
       "      <th>-7Dq_NtTyd7WV-Nt1f-o9A</th>\n",
       "      <td>Love love love their wings and mozzarella stic...</td>\n",
       "      <td>5/31/2016 9/11/2017</td>\n",
       "      <td>19</td>\n",
       "    </tr>\n",
       "    <tr>\n",
       "      <th>-D-ye8DU5KndJ7mqBpKU1g</th>\n",
       "      <td>Excellent halal cart (and I eat at a lot of ha...</td>\n",
       "      <td>3/21/2020 7/31/2018</td>\n",
       "      <td>19</td>\n",
       "    </tr>\n",
       "    <tr>\n",
       "      <th>-E5PfobEXNQ_WC8Qv2wGJA</th>\n",
       "      <td>I ordered wings , each order is supposed to be...</td>\n",
       "      <td>5/29/2019 5/14/2019 3/22/2020 5/6/2019 4/16/20...</td>\n",
       "      <td>78</td>\n",
       "    </tr>\n",
       "    <tr>\n",
       "      <th>-GYT90fOCNjTbjCjj4wuiw</th>\n",
       "      <td>I feel compelled to leave a review for my very...</td>\n",
       "      <td>3/16/2019 6/3/2016 8/10/2007 5/2/2013 5/3/2010...</td>\n",
       "      <td>57</td>\n",
       "    </tr>\n",
       "  </tbody>\n",
       "</table>\n",
       "</div>"
      ],
      "text/plain": [
       "                                                              review_text  \\\n",
       "restaurant_id                                                               \n",
       "-6tSx9IXwt1btreBtcyZ0g  Mexican Corn Dogs is very tasty.\\nSausage Plat...   \n",
       "-7Dq_NtTyd7WV-Nt1f-o9A  Love love love their wings and mozzarella stic...   \n",
       "-D-ye8DU5KndJ7mqBpKU1g  Excellent halal cart (and I eat at a lot of ha...   \n",
       "-E5PfobEXNQ_WC8Qv2wGJA  I ordered wings , each order is supposed to be...   \n",
       "-GYT90fOCNjTbjCjj4wuiw  I feel compelled to leave a review for my very...   \n",
       "\n",
       "                                                              review_date  \\\n",
       "restaurant_id                                                               \n",
       "-6tSx9IXwt1btreBtcyZ0g  3/8/2020 3/23/2020 1/24/2020 3/10/2019 7/11/20...   \n",
       "-7Dq_NtTyd7WV-Nt1f-o9A                                5/31/2016 9/11/2017   \n",
       "-D-ye8DU5KndJ7mqBpKU1g                                3/21/2020 7/31/2018   \n",
       "-E5PfobEXNQ_WC8Qv2wGJA  5/29/2019 5/14/2019 3/22/2020 5/6/2019 4/16/20...   \n",
       "-GYT90fOCNjTbjCjj4wuiw  3/16/2019 6/3/2016 8/10/2007 5/2/2013 5/3/2010...   \n",
       "\n",
       "                        review_count  \n",
       "restaurant_id                         \n",
       "-6tSx9IXwt1btreBtcyZ0g           117  \n",
       "-7Dq_NtTyd7WV-Nt1f-o9A            19  \n",
       "-D-ye8DU5KndJ7mqBpKU1g            19  \n",
       "-E5PfobEXNQ_WC8Qv2wGJA            78  \n",
       "-GYT90fOCNjTbjCjj4wuiw            57  "
      ]
     },
     "execution_count": 7,
     "metadata": {},
     "output_type": "execute_result"
    }
   ],
   "source": [
    "grouped_reviews_df.head()"
   ]
  },
  {
   "cell_type": "markdown",
   "metadata": {},
   "source": [
    "# Import FP and TN from Random Forest Model in Baseline_3"
   ]
  },
  {
   "cell_type": "code",
   "execution_count": 11,
   "metadata": {},
   "outputs": [],
   "source": [
    "# read pickles\n",
    "FP_list = pd.read_pickle(os.getcwd() + '/FP_list.pkl')\n",
    "TN_list = pd.read_pickle(os.getcwd() + '/TN_list.pkl')\n",
    "\n",
    "# save FP reviews to csv for easier viewing\n",
    "grouped_reviews_df.loc[FP_list, 'review_text'].to_csv(os.getcwd() + '/FP_reviews.csv')"
   ]
  },
  {
   "cell_type": "markdown",
   "metadata": {},
   "source": [
    "### Add 'halal cart(s)' to halal_truck feature"
   ]
  },
  {
   "cell_type": "code",
   "execution_count": 15,
   "metadata": {},
   "outputs": [],
   "source": [
    "def is_halal_truck(doc_col):\n",
    "    # initialize phrase matcher\n",
    "    matcher = PhraseMatcher(nlp.vocab)\n",
    "    # add phrases\n",
    "    matcher.add('halal', None, nlp('halal guys'), nlp('halal truck'), nlp('halal cart'), nlp('halal carts'))\n",
    "    # phrase match\n",
    "    res = []\n",
    "    count = []\n",
    "    for i, doc in doc_col.iteritems():\n",
    "        match = matcher(doc)\n",
    "        res.append(True if len(match) else False)\n",
    "        count.append(len(match))\n",
    "    return res, count"
   ]
  },
  {
   "cell_type": "code",
   "execution_count": 23,
   "metadata": {},
   "outputs": [
    {
     "data": {
      "text/html": [
       "<div>\n",
       "<style scoped>\n",
       "    .dataframe tbody tr th:only-of-type {\n",
       "        vertical-align: middle;\n",
       "    }\n",
       "\n",
       "    .dataframe tbody tr th {\n",
       "        vertical-align: top;\n",
       "    }\n",
       "\n",
       "    .dataframe thead th {\n",
       "        text-align: right;\n",
       "    }\n",
       "</style>\n",
       "<table border=\"1\" class=\"dataframe\">\n",
       "  <thead>\n",
       "    <tr style=\"text-align: right;\">\n",
       "      <th>halal_truck</th>\n",
       "      <th>False</th>\n",
       "      <th>True</th>\n",
       "    </tr>\n",
       "    <tr>\n",
       "      <th>halal</th>\n",
       "      <th></th>\n",
       "      <th></th>\n",
       "    </tr>\n",
       "  </thead>\n",
       "  <tbody>\n",
       "    <tr>\n",
       "      <th>False</th>\n",
       "      <td>117</td>\n",
       "      <td>108</td>\n",
       "    </tr>\n",
       "    <tr>\n",
       "      <th>True</th>\n",
       "      <td>415</td>\n",
       "      <td>197</td>\n",
       "    </tr>\n",
       "  </tbody>\n",
       "</table>\n",
       "</div>"
      ],
      "text/plain": [
       "halal_truck  False  True \n",
       "halal                    \n",
       "False          117    108\n",
       "True           415    197"
      ]
     },
     "execution_count": 23,
     "metadata": {},
     "output_type": "execute_result"
    }
   ],
   "source": [
    "# # read pickle of dataframe with all reviews data, including Spacy Doc, and features\n",
    "# data_df = pd.read_pickle('/Users/wesamazaizeh/Desktop/Projects/halal_o_meter/src/features/feature_engineering/feature_engineering_v2_last_result.pkl')\n",
    "\n",
    "# regenerate modified halal_truck feature that includes instances of halal cart(s)\n",
    "nlp = en_core_web_sm.load()\n",
    "data_df['halal_truck'], data_df['halal_truck_count'] = is_halal_truck(data_df['doc'])\n",
    "data_df['halal_truck_percent'] = data_df['halal_truck_count'] / data_df['halal_review_count']\n",
    "pd.crosstab( data_df['halal'], data_df['halal_truck'])"
   ]
  },
  {
   "cell_type": "markdown",
   "metadata": {},
   "source": [
    "- Modified halal_truck feature captures 108 out of the 225 non-halal restaurant, and 197/612 halal restaurants.\n",
    "- This is compared to 41/225 non-halal and 98/612 halal restaurants previously. The "
   ]
  },
  {
   "cell_type": "markdown",
   "metadata": {},
   "source": [
    "## Pickle dataframe with features for modeling "
   ]
  },
  {
   "cell_type": "code",
   "execution_count": 24,
   "metadata": {},
   "outputs": [],
   "source": [
    "file_name = os.getcwd() + '/restaurant_cat_and_num_v2.pkl'\n",
    "data_df.drop(['review_text', 'review_date', 'restaurant_name', 'doc'] ,axis=1).to_pickle(file_name)"
   ]
  }
 ],
 "metadata": {
  "kernelspec": {
   "display_name": "env3",
   "language": "python",
   "name": "env3"
  },
  "language_info": {
   "codemirror_mode": {
    "name": "ipython",
    "version": 3
   },
   "file_extension": ".py",
   "mimetype": "text/x-python",
   "name": "python",
   "nbconvert_exporter": "python",
   "pygments_lexer": "ipython3",
   "version": "3.6.10"
  }
 },
 "nbformat": 4,
 "nbformat_minor": 2
}
