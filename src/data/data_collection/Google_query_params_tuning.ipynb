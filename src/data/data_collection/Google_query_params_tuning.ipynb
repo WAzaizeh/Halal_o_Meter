{
 "cells": [
  {
   "cell_type": "code",
   "execution_count": 1,
   "metadata": {
    "scrolled": true
   },
   "outputs": [],
   "source": [
    "import Google_business_search\n",
    "import os\n",
    "import pandas as pd\n",
    "\n",
    "# a table copied from [https://www.baruch.cuny.edu/nycdata/population-geography/neighborhoods.htm]\n",
    "def get_list():\n",
    "    neighborhood_table = pd.read_csv(os.getcwd()+'/NYC_neighborhood.csv', keep_default_na=False)\n",
    "\n",
    "    # add borough name to neighborhood name and return as a flat list\n",
    "    neighborhood_table = neighborhood_table.apply(lambda x: x+','+x.name)\n",
    "    neighborhood_list = neighborhood_table.values.flatten()\n",
    "    neighborhood_list = list(filter(lambda x: not x.startswith(','), neighborhood_list))\n",
    "    return neighborhood_list\n",
    "\n",
    "# will be used later to calculate how many of the search results overlap\n",
    "def count_duplicates(str_list): \n",
    "\n",
    "    '''takes a list of strings and\n",
    "    returns the number of duplicate elements'''\n",
    "\n",
    "    return len(str_list) - len(set(str_list))"
   ]
  },
  {
   "cell_type": "code",
   "execution_count": 2,
   "metadata": {},
   "outputs": [],
   "source": [
    "# variables to query\n",
    "neighborhood_list = get_list()\n",
    "radii = [50, 200 , 500, 1000, 2500, 5000]\n",
    "\n",
    "# randomly choose 10% of neighborhoods so this doesn't take forever\n",
    "import random, math\n",
    "test_list = random.sample(neighborhood_list, math.ceil(len(neighborhood_list)*.1))"
   ]
  },
  {
   "cell_type": "code",
   "execution_count": null,
   "metadata": {
    "scrolled": true
   },
   "outputs": [
    {
     "name": "stdout",
     "output_type": "stream",
     "text": [
      "Done: query with radius=50 in Murray Hill,Manhattan\n",
      "Done: query with radius=50 in Sandy Ground,Staten Island\n",
      "Done: query with radius=50 in Astoria,Queens\n",
      "Done: query with radius=50 in Rockaway Park,Queens\n",
      "Done: query with radius=50 in Elm Park,Staten Island\n",
      "Done: query with radius=50 in Fordham,Bronx\n",
      "Done: query with radius=50 in Steinway,Queens\n",
      "Done: query with radius=50 in Farragut,Brooklyn\n",
      "Done: query with radius=50 in New Springville,Staten Island\n",
      "Done: query with radius=50 in Arlington,Staten Island\n",
      "Done: query with radius=50 in Ditmas Park,Brooklyn\n",
      "Done: query with radius=50 in Forest Hills,Queens\n",
      "Done: query with radius=50 in Grymes Hill,Staten Island\n",
      "Done: query with radius=50 in Homecrest,Brooklyn\n",
      "Done: query with radius=50 in Wingate,Brooklyn\n",
      "Done: query with radius=50 in Flatlands,Brooklyn\n",
      "Done: query with radius=50 in Inwood,Manhattan\n",
      "Done: query with radius=50 in Downtown,Brooklyn\n",
      "Done: query with radius=50 in South Side,Brooklyn\n",
      "Done: query with radius=50 in Bloomfield,Staten Island\n",
      "Done: query with radius=50 in Schuylerville,Bronx\n",
      "Done: query with radius=50 in Kensington,Brooklyn\n",
      "Done: query with radius=50 in Co-op City,Bronx\n",
      "Done: query with radius=50 in Oakland Gardens,Queens\n",
      "Done: query with radius=50 in Utopia,Queens\n",
      "Done: query with radius=50 in Elmhurst,Queens\n"
     ]
    }
   ],
   "source": [
    "result_list = []\n",
    "names_list = []\n",
    "percent_overlap = []\n",
    "unique_names = []\n",
    "for radius in radii:\n",
    "    for neighborhood in test_list:\n",
    "        search_results = Google_business_search.get_google_places_by_location('restaurant', 'halal', location_name=neighborhood, radius= str(radius))\n",
    "        print('Done: query with radius='+str(radius)+' in '+neighborhood)\n",
    "        names = [item[0] for item in search_results]\n",
    "        names_list.append(names)\n",
    "    flat_names_list = [name for names in names_list for name in names]\n",
    "    percent_overlap.append(count_duplicates(flat_names_list)/len(flat_names_list))\n",
    "    unique_names.append(len( set(flat_names_list)))"
   ]
  },
  {
   "cell_type": "code",
   "execution_count": null,
   "metadata": {
    "scrolled": true
   },
   "outputs": [],
   "source": [
    "from matplotlib import pyplot as plt\n",
    "import seaborn as sns\n",
    "# plot\n",
    "sns.set(style=\"white\", rc={\"lines.linewidth\": 3})\n",
    "fig, ax1 = plt.subplots(figsize=(10,10))\n",
    "ax2 = ax1.twinx()\n",
    "sns.lineplot(x=radii,\n",
    "            y=unique_names, \n",
    "            color='#004488',\n",
    "            ax=ax1)\n",
    "sns.lineplot(x=radii, \n",
    "             y=percent_overlap,\n",
    "             color='r',\n",
    "             marker=\"o\",\n",
    "             ax=ax2)\n",
    "plt.show()\n",
    "sns.set()"
   ]
  },
  {
   "cell_type": "code",
   "execution_count": null,
   "metadata": {},
   "outputs": [],
   "source": []
  }
 ],
 "metadata": {
  "kernelspec": {
   "display_name": "Python 3",
   "language": "python",
   "name": "python3"
  },
  "language_info": {
   "codemirror_mode": {
    "name": "ipython",
    "version": 3
   },
   "file_extension": ".py",
   "mimetype": "text/x-python",
   "name": "python",
   "nbconvert_exporter": "python",
   "pygments_lexer": "ipython3",
   "version": "3.6.9"
  }
 },
 "nbformat": 4,
 "nbformat_minor": 2
}
