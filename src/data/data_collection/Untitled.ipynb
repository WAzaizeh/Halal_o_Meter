{
 "cells": [
  {
   "cell_type": "code",
   "execution_count": 3,
   "metadata": {
    "scrolled": true
   },
   "outputs": [],
   "source": [
    "from Google_business_search import get_google_places_by_location\n",
    "from database import Database\n",
    "\n",
    "db = Database()\n",
    "coordinates = db.select_rows('''SELECT lat, lng FROM coordinates LIMIT 10''')\n",
    "coordinates_list = [coord for coord in coordinates]\n",
    "short_coordinates = [','.join(map(str, coordinate)) for coordinate in coordinates_list]\n",
    "\n",
    "# result = get_google_places_by_location(short_coordinates[0])\n",
    "# len(result)"
   ]
  },
  {
   "cell_type": "code",
   "execution_count": 1,
   "metadata": {},
   "outputs": [
    {
     "name": "stdout",
     "output_type": "stream",
     "text": [
      "Scraped 11 reviews from google business id #randomID8083rpoeu\n",
      "11\n"
     ]
    }
   ],
   "source": [
    "import review_scraper\n",
    "\n",
    "google_test_url = 'https://maps.google.com/?cid=4988939335835406517'\n",
    "google_id = 'randomID8083rpoeu'\n",
    "data = review_scraper.scrape_google_reviews(google_url=google_test_url, google_id=google_id)\n",
    "print(len(data)) # should be 11"
   ]
  },
  {
   "cell_type": "code",
   "execution_count": null,
   "metadata": {},
   "outputs": [],
   "source": []
  }
 ],
 "metadata": {
  "kernelspec": {
   "display_name": "Python 3",
   "language": "python",
   "name": "python3"
  },
  "language_info": {
   "codemirror_mode": {
    "name": "ipython",
    "version": 3
   },
   "file_extension": ".py",
   "mimetype": "text/x-python",
   "name": "python",
   "nbconvert_exporter": "python",
   "pygments_lexer": "ipython3",
   "version": "3.6.9"
  }
 },
 "nbformat": 4,
 "nbformat_minor": 2
}
