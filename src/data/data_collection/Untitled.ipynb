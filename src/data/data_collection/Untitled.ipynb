{
 "cells": [
  {
   "cell_type": "code",
   "execution_count": 3,
   "metadata": {
    "scrolled": true
   },
   "outputs": [],
   "source": [
    "from Google_business_search import get_google_places_by_location\n",
    "from database import Database\n",
    "\n",
    "db = Database()\n",
    "coordinates = db.select_rows('''SELECT lat, lng FROM coordinates LIMIT 10''')\n",
    "coordinates_list = [coord for coord in coordinates]\n",
    "short_coordinates = [','.join(map(str, coordinate)) for coordinate in coordinates_list]\n",
    "\n",
    "# result = get_google_places_by_location(short_coordinates[0])\n",
    "# len(result)"
   ]
  },
  {
   "cell_type": "code",
   "execution_count": 1,
   "metadata": {},
   "outputs": [
    {
     "name": "stdout",
     "output_type": "stream",
     "text": [
      "Scraped 11 reviews from google business id #randomID8083rpoeu\n",
      "11\n"
     ]
    }
   ],
   "source": [
    "import review_scraper\n",
    "\n",
    "google_test_url = 'https://maps.google.com/?cid=4988939335835406517'\n",
    "google_id = 'randomID8083rpoeu'\n",
    "data = review_scraper.scrape_google_reviews(google_url=google_test_url, google_id=google_id)\n",
    "print(len(data)) # should be 11"
   ]
  },
  {
   "cell_type": "code",
   "execution_count": 5,
   "metadata": {},
   "outputs": [],
   "source": [
    "import requests, json, time\n",
    "from Google_business_search import get_google_place_url_and_review_count\n",
    "\n",
    "from dotenv import load_dotenv\n",
    "import os\n",
    "\n",
    "load_dotenv()\n",
    "API_key = os.getenv('GOOGLE_API_KEY_2')\n",
    "\n",
    "coordinates = '40.6038852,-74.0062078'\n",
    "business_type='restaurant'\n",
    "search_term='halal'\n",
    "radius = '16093'\n",
    "next_page=''\n",
    "\n",
    "\n",
    "def get_google_places_by_location(coordinates, business_type='restaurant', search_term='halal', radius = '16093', next_page=''):\n",
    "    URL = ('https://maps.googleapis.com/maps/api/place/textsearch/json?location='\n",
    "        + coordinates + '&radius=' + radius + 'query=' + search_term + '&type='\n",
    "        + business_type + '&pagetoken=' + next_page + '&key='+ API_key)\n",
    "    response = requests.get(URL)\n",
    "    json_obj = json.loads(response.text)\n",
    "    results = json_obj[\"results\"]\n",
    "\n",
    "    # # SQL query to add business to table\n",
    "    # db = Database()\n",
    "    # update_sql = \"\"\"INSERT INTO businesses (name, platform_id, url, total_review_count, address)\n",
    "    #                 VALUES (%s, %s, %s, %s, %s)\n",
    "    #                 ON CONFLICT (url) DO NOTHING\"\"\"\n",
    "    businesses_list = []\n",
    "    print(json_obj['status'])\n",
    "    for result in results:\n",
    "        name = result['name']\n",
    "        google_id = result['place_id']\n",
    "        google_url , review_count = get_google_place_url_and_review_count(google_id)\n",
    "        address = result['formatted_address']\n",
    "        businesses_list.append([name, google_id, google_url, review_count, address])\n",
    "        # db.insert_row( update_sql, *(name, google_id, google_url, review_count, address))\n",
    "    try:\n",
    "        print('Found next page')\n",
    "        next_page_token = json_obj[\"next_page_token\"]\n",
    "    except:\n",
    "        #no next page\n",
    "        \n",
    "        return businesses_list\n",
    "    time.sleep(1)\n",
    "    data = get_google_places_by_location(coordinates=coordinates, next_page=next_page_token)\n",
    "    businesses_list.extend(data)\n",
    "    print('Found {} businesses near coordinates {}'.format(len(businesses_list), coordinates))\n",
    "    return businesses_list"
   ]
  },
  {
   "cell_type": "code",
   "execution_count": 10,
   "metadata": {},
   "outputs": [
    {
     "data": {
      "text/plain": [
       "<function sys.exit>"
      ]
     },
     "execution_count": 10,
     "metadata": {},
     "output_type": "execute_result"
    }
   ],
   "source": [
    "import sys\n",
    "sys.exit"
   ]
  },
  {
   "cell_type": "code",
   "execution_count": null,
   "metadata": {},
   "outputs": [],
   "source": []
  }
 ],
 "metadata": {
  "kernelspec": {
   "display_name": "Python 3",
   "language": "python",
   "name": "python3"
  },
  "language_info": {
   "codemirror_mode": {
    "name": "ipython",
    "version": 3
   },
   "file_extension": ".py",
   "mimetype": "text/x-python",
   "name": "python",
   "nbconvert_exporter": "python",
   "pygments_lexer": "ipython3",
   "version": "3.6.9"
  }
 },
 "nbformat": 4,
 "nbformat_minor": 2
}
