{
 "cells": [
  {
   "cell_type": "code",
   "execution_count": 6,
   "metadata": {},
   "outputs": [],
   "source": [
    "# PostreSQL database for saving the scraped data\n",
    "\n",
    "import psycopg2\n",
    "from psycopg2 import sql\n",
    "\n",
    "def append_to_businesses(name, id, url, review_count, address):\n",
    "    try:\n",
    "        connection, cursor = _connect_to_database()\n",
    "\n",
    "        # insert row into table\n",
    "        table = 'Google_businesses' if 'google' in url else 'Yelp_businesses'\n",
    "        cursor.execute(                                                # correct\n",
    "        sql.SQL(\"\"\"INSERT INTO {} (Name, ID, URL, Total_review_count, Address) VALUES (%s, %s, %s, %s, %s)\"\"\").format(sql.Identifier(table)),\n",
    "        (name, id, url, review_count, address))\n",
    "\n",
    "        # testing\n",
    "        print(\"Table After updating record \")\n",
    "        sql_select_query = 'SELECT * from \"{}\"'.format(table)\n",
    "        cursor.execute(sql_select_query)\n",
    "        rows = cursor.fetchall()\n",
    "        for row in rows:\n",
    "            print(row)\n",
    "\n",
    "        connection.commit()\n",
    "    finally:\n",
    "        # closing database connection\n",
    "        _close_connection(connection, cursor)\n",
    "\n",
    "def _connect_to_database():\n",
    "    try:\n",
    "        connection = psycopg2.connect(user=\"wesamazaizeh\",\n",
    "                                      password=\"melad5RA\",\n",
    "                                      host=\"127.0.0.1\",\n",
    "                                      port=\"5432\",\n",
    "                                      database=\"halal_o_meter\")\n",
    "        cursor = connection.cursor()\n",
    "        return connection, cursor\n",
    "    except (Exception, psycopg2.Error) as error:\n",
    "        print('Error in update operation\\n', error)\n",
    "\n",
    "\n",
    "\n",
    "def _close_connection(connection, cursor):\n",
    "    if (connection):\n",
    "        cursor.close()\n",
    "        connection.close()\n",
    "        print('PostgreSQL connection is closed')\n"
   ]
  },
  {
   "cell_type": "code",
   "execution_count": 7,
   "metadata": {},
   "outputs": [
    {
     "name": "stdout",
     "output_type": "stream",
     "text": [
      "Table After updating record \n",
      "('Absee', 'HJSDKJF709SDF', 'https:///google.com/?palces_API_result_some_restaurant', 232.0, 'Address')\n",
      "('Absee', 'HJSDKJ7809SDF', 'https:///google.com/?palces_API_result_some_restaurant', 232.0, 'Address')\n",
      "('Absee', 'HJSDKJadsfj09SDF', 'https:///google.com/?palces_API_result_some_restaurant', 232.0, 'Address')\n",
      "PostgreSQL connection is closed\n"
     ]
    }
   ],
   "source": [
    "append_to_businesses('Absee', 'HJSDKJadsfj09SDF', 'https:///google.com/?palces_API_result_some_restaurant', 232, 'Address')"
   ]
  },
  {
   "cell_type": "code",
   "execution_count": null,
   "metadata": {},
   "outputs": [],
   "source": []
  }
 ],
 "metadata": {
  "kernelspec": {
   "display_name": "Python 3",
   "language": "python",
   "name": "python3"
  },
  "language_info": {
   "codemirror_mode": {
    "name": "ipython",
    "version": 3
   },
   "file_extension": ".py",
   "mimetype": "text/x-python",
   "name": "python",
   "nbconvert_exporter": "python",
   "pygments_lexer": "ipython3",
   "version": "3.6.9"
  }
 },
 "nbformat": 4,
 "nbformat_minor": 2
}
