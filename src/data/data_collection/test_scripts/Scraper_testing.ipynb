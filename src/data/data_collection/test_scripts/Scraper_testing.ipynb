{
 "cells": [
  {
   "cell_type": "code",
   "execution_count": 28,
   "metadata": {},
   "outputs": [],
   "source": [
    "'''\n",
    "Data collection script. Gathers businesses from yelp and google API searches\n",
    "then scrapes the pages of the search results from both platforms to get all\n",
    "review texts that include the word 'Halal' in them.\n",
    "'''\n",
    "\n",
    "from storage_managers.database import Database\n",
    "import multiprocessing\n",
    "from search_and_scrape.Google_business_search import get_google_places_by_location\n",
    "from search_and_scrape.Yelp_business_search import get_yelp_places_by_location\n",
    "from search_and_scrape.review_scraper import scrape_yelp_reviews, scrape_google_reviews, _close_webdriver\n",
    "import sys\n",
    "from datetime import datetime\n",
    "\n",
    "def get_businesses():\n",
    "    try:\n",
    "        # searching for businesses and updating database\n",
    "        coordinates = _get_coordinates_list()\n",
    "        timestamped_print('Searching around', '|'.join([coord[0] for coord in coordinates]))\n",
    "        agents = 3\n",
    "        chunksize = 10\n",
    "        businesses_list = []\n",
    "        # with multiprocessing.Pool(processes=agents) as pool:\n",
    "        #     businesses_list.extend(pool.map(get_google_places_by_location, coordinates, chunksize))\n",
    "        #     # businesses_list.extend(pool.map(get_yelp_places_by_location, coordinates, chunksize))\n",
    "        #     pool.close()\n",
    "        #     pool.join()\n",
    "        ## -Chunk and call search functions multiple times:\n",
    "        ## -Have lat,lng limitation where if more than 10% of results are outside locality then stop search\n",
    "        ## and eliminate results from lat/lng +/- threshold\n",
    "        _update_businesses(businesses_list)\n",
    "    except KeyboardInterrupt:\n",
    "        _update_businesses(businesses_list)\n",
    "        raise\n",
    "        sys.exit(0)\n",
    "        \n",
    "def scrape_reviews():\n",
    "    yelp_urls, google_urls = _get_unscraped_urls()\n",
    "    # scrape reviews info\n",
    "    agents = 3\n",
    "    chunksize = 10\n",
    "    reviews_list = []\n",
    "    print('\\n#####################################################################')\n",
    "    print('{} yelp restaurants and {} Google restaurants left to scrape'.format(len(yelp_urls), len(google_urls)))\n",
    "    try:\n",
    "        with multiprocessing.Pool(processes=agents) as pool:\n",
    "            reviews_list.extend(pool.starmap(scrape_yelp_reviews, yelp_urls[:3], chunksize=chunksize))\n",
    "            # reviews_list.extend(pool.starmap(scrape_google_reviews, google_urls[:2], chunksize))\n",
    "            pool.close()\n",
    "            pool.join()\n",
    "        _update_reviews(reviews_list)\n",
    "    except (KeyboardInterrupt, SystemExit):\n",
    "        _update_reviews(reviews_list)\n",
    "        raise\n",
    "        sys.exit(0)\n",
    "\n",
    "\n",
    "def _get_unscraped_urls():\n",
    "    db = Database()\n",
    "    # get list of google and yelp urls\n",
    "    get_urls = '''SELECT url, platform_id\n",
    "                    FROM businesses\n",
    "                    WHERE url LIKE %s '''\n",
    "    yelp_urls = db.select_rows(get_urls, ('%yelp%', ))\n",
    "    google_urls = db.select_rows(get_urls, ('%google%', ))\n",
    "\n",
    "    # exclude businesses that have already been scraped\n",
    "    scraped_ids = db.select_rows('''SELECT DISTINCT ON (restaurant_id) restaurant_id FROM reviews''')\n",
    "    exclusion_list = [item[0] for item in scraped_ids]\n",
    "    yelp_urls_keep = [t for t in yelp_urls if t[1] not in exclusion_list]\n",
    "    google_urls_keep = [t for t in google_urls if t[1] not in exclusion_list]\n",
    "    return yelp_urls_keep, google_urls_keep\n",
    "\n",
    "\n",
    "def _update_reviews(reviews_list):\n",
    "    '''\n",
    "        get a nested list of individual review data. Each entry includes:\n",
    "        - restaurant id\n",
    "        - username\n",
    "        - rating\n",
    "        - review text\n",
    "        - review date\n",
    "        - helpful count\n",
    "    '''\n",
    "    db = Database()\n",
    "    # update database with business scraping results\n",
    "    reviews_sql = \"\"\"INSERT INTO reviews (restaurant_id, username, rating, review_text, date, helpful_count)\n",
    "                    VALUES (%s, %s, %s, %s, %s, %s )\n",
    "                    ON CONFLICT (review_text) DO NOTHING\"\"\"\n",
    "    db_list = [item for sublist in reviews_list for item in sublist]\n",
    "    db.insert_rows(reviews_sql, *db_list)\n",
    "    #print summary statement\n",
    "    timestamped_print('Attempted to insert {} reviews'.format(len(db_list)))\n",
    "\n",
    "def timestamped_print(*args, **kwargs):\n",
    "  print(datetime.now(), *args, **kwargs)"
   ]
  },
  {
   "cell_type": "code",
   "execution_count": 32,
   "metadata": {},
   "outputs": [
    {
     "name": "stdout",
     "output_type": "stream",
     "text": [
      "\n",
      "#####################################################################\n",
      "3260 yelp restaurants and 98 Google restaurants left to scrape\n"
     ]
    }
   ],
   "source": [
    "reviews_list = scrape_reviews()"
   ]
  },
  {
   "cell_type": "code",
   "execution_count": 33,
   "metadata": {},
   "outputs": [
    {
     "data": {
      "text/plain": [
       "4"
      ]
     },
     "execution_count": 33,
     "metadata": {},
     "output_type": "execute_result"
    }
   ],
   "source": [
    "db_list = [item for sublist in reviews_list for item in sublist]\n",
    "len(db_list)"
   ]
  },
  {
   "cell_type": "code",
   "execution_count": 34,
   "metadata": {},
   "outputs": [
    {
     "name": "stdout",
     "output_type": "stream",
     "text": [
      "2021-01-19 13:53:19.865681 Attempted to insert 4 reviews\n"
     ]
    }
   ],
   "source": [
    "_update_reviews(reviews_list)"
   ]
  },
  {
   "cell_type": "markdown",
   "metadata": {},
   "source": [
    "---"
   ]
  },
  {
   "cell_type": "code",
   "execution_count": 35,
   "metadata": {
    "scrolled": true
   },
   "outputs": [
    {
     "ename": "TypeError",
     "evalue": "not all arguments converted during string formatting",
     "output_type": "error",
     "traceback": [
      "\u001b[0;31m---------------------------------------------------------------------------\u001b[0m",
      "\u001b[0;31mTypeError\u001b[0m                                 Traceback (most recent call last)",
      "\u001b[0;32m<ipython-input-35-f90f40399aaa>\u001b[0m in \u001b[0;36m<module>\u001b[0;34m\u001b[0m\n\u001b[1;32m      1\u001b[0m \u001b[0;32mfrom\u001b[0m \u001b[0mmain\u001b[0m \u001b[0;32mimport\u001b[0m \u001b[0m_update_reviews\u001b[0m\u001b[0;34m\u001b[0m\u001b[0;34m\u001b[0m\u001b[0m\n\u001b[1;32m      2\u001b[0m \u001b[0;34m\u001b[0m\u001b[0m\n\u001b[0;32m----> 3\u001b[0;31m \u001b[0m_update_reviews\u001b[0m\u001b[0;34m(\u001b[0m\u001b[0;34m[\u001b[0m\u001b[0;34m[\u001b[0m\u001b[0;34m'aP_9qqZQKTE3lLUIbZt1UQ'\u001b[0m\u001b[0;34m,\u001b[0m \u001b[0;34m''\u001b[0m\u001b[0;34m,\u001b[0m \u001b[0;34m''\u001b[0m\u001b[0;34m,\u001b[0m \u001b[0;34m''\u001b[0m\u001b[0;34m,\u001b[0m \u001b[0;34m''\u001b[0m\u001b[0;34m,\u001b[0m \u001b[0;36m0\u001b[0m\u001b[0;34m]\u001b[0m\u001b[0;34m]\u001b[0m\u001b[0;34m)\u001b[0m\u001b[0;34m\u001b[0m\u001b[0;34m\u001b[0m\u001b[0m\n\u001b[0m",
      "\u001b[0;32m~/Desktop/Projects/halal_o_meter/src/data/data_collection/main.py\u001b[0m in \u001b[0;36m_update_reviews\u001b[0;34m(reviews_list)\u001b[0m\n\u001b[1;32m    124\u001b[0m                     ON CONFLICT (review_text) DO NOTHING\"\"\"\n\u001b[1;32m    125\u001b[0m     \u001b[0mdb_list\u001b[0m \u001b[0;34m=\u001b[0m \u001b[0;34m[\u001b[0m\u001b[0mitem\u001b[0m \u001b[0;32mfor\u001b[0m \u001b[0msublist\u001b[0m \u001b[0;32min\u001b[0m \u001b[0mreviews_list\u001b[0m \u001b[0;32mfor\u001b[0m \u001b[0mitem\u001b[0m \u001b[0;32min\u001b[0m \u001b[0msublist\u001b[0m\u001b[0;34m]\u001b[0m\u001b[0;34m\u001b[0m\u001b[0;34m\u001b[0m\u001b[0m\n\u001b[0;32m--> 126\u001b[0;31m     \u001b[0mdb\u001b[0m\u001b[0;34m.\u001b[0m\u001b[0minsert_rows\u001b[0m\u001b[0;34m(\u001b[0m\u001b[0mreviews_sql\u001b[0m\u001b[0;34m,\u001b[0m \u001b[0;34m*\u001b[0m\u001b[0mdb_list\u001b[0m\u001b[0;34m)\u001b[0m\u001b[0;34m\u001b[0m\u001b[0;34m\u001b[0m\u001b[0m\n\u001b[0m\u001b[1;32m    127\u001b[0m     \u001b[0;31m#print summary statement\u001b[0m\u001b[0;34m\u001b[0m\u001b[0;34m\u001b[0m\u001b[0;34m\u001b[0m\u001b[0m\n\u001b[1;32m    128\u001b[0m     \u001b[0mtimestamped_print\u001b[0m\u001b[0;34m(\u001b[0m\u001b[0;34m'Attempted to insert {} reviews'\u001b[0m\u001b[0;34m.\u001b[0m\u001b[0mformat\u001b[0m\u001b[0;34m(\u001b[0m\u001b[0mlen\u001b[0m\u001b[0;34m(\u001b[0m\u001b[0mdb_list\u001b[0m\u001b[0;34m)\u001b[0m\u001b[0;34m)\u001b[0m\u001b[0;34m)\u001b[0m\u001b[0;34m\u001b[0m\u001b[0;34m\u001b[0m\u001b[0m\n",
      "\u001b[0;32m~/Desktop/Projects/halal_o_meter/src/data/data_collection/database.py\u001b[0m in \u001b[0;36minsert_rows\u001b[0;34m(self, query, *args)\u001b[0m\n\u001b[1;32m     67\u001b[0m         \u001b[0mself\u001b[0m\u001b[0;34m.\u001b[0m\u001b[0mconnect\u001b[0m\u001b[0;34m(\u001b[0m\u001b[0;34m)\u001b[0m\u001b[0;34m\u001b[0m\u001b[0;34m\u001b[0m\u001b[0m\n\u001b[1;32m     68\u001b[0m         \u001b[0;32mwith\u001b[0m \u001b[0mself\u001b[0m\u001b[0;34m.\u001b[0m\u001b[0mconn\u001b[0m\u001b[0;34m.\u001b[0m\u001b[0mcursor\u001b[0m\u001b[0;34m(\u001b[0m\u001b[0;34m)\u001b[0m \u001b[0;32mas\u001b[0m \u001b[0mcur\u001b[0m\u001b[0;34m:\u001b[0m\u001b[0;34m\u001b[0m\u001b[0;34m\u001b[0m\u001b[0m\n\u001b[0;32m---> 69\u001b[0;31m             \u001b[0mcur\u001b[0m\u001b[0;34m.\u001b[0m\u001b[0mexecutemany\u001b[0m\u001b[0;34m(\u001b[0m\u001b[0mquery\u001b[0m\u001b[0;34m,\u001b[0m \u001b[0margs\u001b[0m\u001b[0;34m)\u001b[0m\u001b[0;34m\u001b[0m\u001b[0;34m\u001b[0m\u001b[0m\n\u001b[0m\u001b[1;32m     70\u001b[0m             \u001b[0mself\u001b[0m\u001b[0;34m.\u001b[0m\u001b[0mconn\u001b[0m\u001b[0;34m.\u001b[0m\u001b[0mcommit\u001b[0m\u001b[0;34m(\u001b[0m\u001b[0;34m)\u001b[0m\u001b[0;34m\u001b[0m\u001b[0;34m\u001b[0m\u001b[0m\n\u001b[1;32m     71\u001b[0m             \u001b[0mcur\u001b[0m\u001b[0;34m.\u001b[0m\u001b[0mclose\u001b[0m\u001b[0;34m(\u001b[0m\u001b[0;34m)\u001b[0m\u001b[0;34m\u001b[0m\u001b[0;34m\u001b[0m\u001b[0m\n",
      "\u001b[0;31mTypeError\u001b[0m: not all arguments converted during string formatting"
     ]
    }
   ],
   "source": [
    "from main import _update_reviews\n",
    "\n",
    "_update_reviews([['aP_9qqZQKTE3lLUIbZt1UQ', '', '', '', '', 0]])"
   ]
  },
  {
   "cell_type": "code",
   "execution_count": 73,
   "metadata": {},
   "outputs": [],
   "source": [
    "reviews_list = [[['aP_9qqZQKTE3lLUIbZt1UQ', '', '', '', '', 0]], [['A-zhHGnBFkKA9fo1neN7iA', '', '', '', '', 0]]]\n",
    "reviews_sql = \"\"\"INSERT INTO reviews (restaurant_id, username, rating, review_text, date, helpful_count)\n",
    "                    VALUES (%s, %s, %s, %s, %s, %s )\n",
    "                    ON CONFLICT (review_text) DO NOTHING\"\"\"\n",
    "db_list = [item for sublist in reviews_list for item in sublist]\n",
    "for review in db_list:\n",
    "    for r in (('_', '\\_'), ('-', '\\-')):\n",
    "        review[0] = review[0].replace(*r)\n",
    "    db.insert_row(reviews_sql, *review)"
   ]
  },
  {
   "cell_type": "code",
   "execution_count": 104,
   "metadata": {
    "scrolled": true
   },
   "outputs": [
    {
     "name": "stdout",
     "output_type": "stream",
     "text": [
      "['aP_9qqZQKTE3lLUIbZt1UQ', '', '', None, '', 0]\n",
      "['A-zhHGnBFkKA9fo1neN7iA', '', '', None, '', 0]\n"
     ]
    }
   ],
   "source": [
    "from storage_managers.database import Database\n",
    "db = Database()\n",
    "reviews_list = [[['aP_9qqZQKTE3lLUIbZt1UQ', '', '', '', '', 0]], [['A-zhHGnBFkKA9fo1neN7iA', '', '', '', '', 0]]]\n",
    "# update database with business scraping results\n",
    "reviews_sql = \"\"\"INSERT INTO reviews (restaurant_id, username, rating, review_text, date, helpful_count)\n",
    "                VALUES (%s, %s, %s, %s, %s, %s )\n",
    "                ON CONFLICT (review_text) DO NOTHING\"\"\"\n",
    "db_list = [item for sublist in reviews_list for item in sublist]\n",
    "for review in db_list:\n",
    "    if review[3] == '': #for restaurants without reviews\n",
    "        review[3] = None #add restaurant_id to end of list again\n",
    "        print(review)\n",
    "    db.insert_row(reviews_sql, *review)"
   ]
  }
 ],
 "metadata": {
  "kernelspec": {
   "display_name": "sm-project",
   "language": "python",
   "name": "sm-project"
  },
  "language_info": {
   "codemirror_mode": {
    "name": "ipython",
    "version": 3
   },
   "file_extension": ".py",
   "mimetype": "text/x-python",
   "name": "python",
   "nbconvert_exporter": "python",
   "pygments_lexer": "ipython3",
   "version": "3.8.1"
  }
 },
 "nbformat": 4,
 "nbformat_minor": 2
}
