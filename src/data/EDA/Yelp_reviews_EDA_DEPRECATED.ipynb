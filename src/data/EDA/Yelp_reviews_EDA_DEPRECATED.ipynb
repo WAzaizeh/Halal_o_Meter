{
 "cells": [
  {
   "cell_type": "markdown",
   "metadata": {},
   "source": [
    "## Libraries"
   ]
  },
  {
   "cell_type": "code",
   "execution_count": 1,
   "metadata": {},
   "outputs": [
    {
     "ename": "ModuleNotFoundError",
     "evalue": "No module named 'seaborn'",
     "output_type": "error",
     "traceback": [
      "\u001b[0;31m---------------------------------------------------------------------------\u001b[0m",
      "\u001b[0;31mModuleNotFoundError\u001b[0m                       Traceback (most recent call last)",
      "\u001b[0;32m<ipython-input-1-f2b234d904db>\u001b[0m in \u001b[0;36m<module>\u001b[0;34m\u001b[0m\n\u001b[1;32m      3\u001b[0m \u001b[0;32mimport\u001b[0m \u001b[0mos\u001b[0m\u001b[0;34m\u001b[0m\u001b[0;34m\u001b[0m\u001b[0m\n\u001b[1;32m      4\u001b[0m \u001b[0;32mimport\u001b[0m \u001b[0mpandas\u001b[0m \u001b[0;32mas\u001b[0m \u001b[0mpd\u001b[0m\u001b[0;34m\u001b[0m\u001b[0;34m\u001b[0m\u001b[0m\n\u001b[0;32m----> 5\u001b[0;31m \u001b[0;32mimport\u001b[0m \u001b[0mseaborn\u001b[0m \u001b[0;32mas\u001b[0m \u001b[0msns\u001b[0m\u001b[0;34m\u001b[0m\u001b[0;34m\u001b[0m\u001b[0m\n\u001b[0m\u001b[1;32m      6\u001b[0m \u001b[0;32mimport\u001b[0m \u001b[0mstring\u001b[0m\u001b[0;34m\u001b[0m\u001b[0;34m\u001b[0m\u001b[0m\n\u001b[1;32m      7\u001b[0m \u001b[0;32mimport\u001b[0m \u001b[0mmatplotlib\u001b[0m\u001b[0;34m.\u001b[0m\u001b[0mpyplot\u001b[0m \u001b[0;32mas\u001b[0m \u001b[0mplt\u001b[0m\u001b[0;34m\u001b[0m\u001b[0;34m\u001b[0m\u001b[0m\n",
      "\u001b[0;31mModuleNotFoundError\u001b[0m: No module named 'seaborn'"
     ]
    }
   ],
   "source": [
    "## libraries\n",
    "import sys\n",
    "import os\n",
    "import pandas as pd\n",
    "import seaborn as sns\n",
    "import string\n",
    "import matplotlib.pyplot as plt\n",
    "from wordcloud import WordCloud, STOPWORDS\n",
    "import re\n",
    "\n",
    "%matplotlib inline\n",
    "\n",
    "# to import Database class from data_collection folder\n",
    "module_path = os.path.abspath(os.path.join('..')+'/data_collection')\n",
    "if module_path not in sys.path:\n",
    "    sys.path.append(module_path)\n",
    "\n",
    "# now that the folder is in the path, ../data_collection/database.py can be imported\n",
    "from database import Database\n"
   ]
  },
  {
   "cell_type": "markdown",
   "metadata": {},
   "source": [
    "### Import data"
   ]
  },
  {
   "cell_type": "code",
   "execution_count": null,
   "metadata": {},
   "outputs": [],
   "source": [
    "db = Database()\n",
    "\n",
    "# get all reviews\n",
    "reviews_sql = '''SELECT * FROM reviews'''\n",
    "reviews_df = db.select_df(reviews_sql)\n",
    "reviews_df.shape #(5092, 4)\n",
    "\n",
    "# get yelp businesses\n",
    "yelp_sql = '''SELECT * FROM businesses WHERE url LIKE '%yelp%' '''\n",
    "yelp_df = db.select_df(yelp_sql)\n",
    "yelp_df.shape #(4098, 6)\n",
    "%store yelp_df\n",
    "\n",
    "# select only yelp reviews\n",
    "yelp_reviews_df = reviews_df[reviews_df.restaurant_id.isin(yelp_df.platform_id)]\n",
    "yelp_reviews_df.shape #(5092, 4)\n",
    "\n",
    "# number of yelp businesses with reviews\n",
    "reviews_df.restaurant_id.nunique() # 838\n",
    "\n",
    "# add column with num of scraped reviews per business\n",
    "counts = reviews_df.restaurant_id.value_counts()\n",
    "yelp_df = yelp_df.assign(halal_review_count=yelp_df.platform_id.map(dict(zip(counts.index, counts.values))))\n",
    "yelp_df.halal_review_count = yelp_df.halal_review_count.fillna(0)"
   ]
  },
  {
   "cell_type": "markdown",
   "metadata": {},
   "source": [
    "## Data summary:\n",
    "- Total of 4098 businesses from yelp\n",
    "- 838 had reviews that included the word 'halal'\n",
    "- Total of 5092 review texts\n",
    "- dist plot of num of reviews per restaurant"
   ]
  },
  {
   "cell_type": "markdown",
   "metadata": {},
   "source": [
    "## Places scraped"
   ]
  },
  {
   "cell_type": "code",
   "execution_count": null,
   "metadata": {},
   "outputs": [],
   "source": [
    "\n",
    "\n",
    "# frequency of cities from address column\n",
    "places = yelp_df['address'].apply(lambda x: x.split(',')[1]).value_counts()\n",
    "places = places[ places >= 40] # arbitrary threshold just for plotting\n",
    "g = sns.barplot(x=places.index, y=places.values)\n",
    "g_labels = g.set_xticklabels(g.get_xticklabels(), rotation=45, horizontalalignment='right')"
   ]
  },
  {
   "cell_type": "markdown",
   "metadata": {},
   "source": [
    "- there seems to be a good amount of data from outside areas of interest (Chicago, SF, Washington)\n",
    "- check how many include the string 'NY'?"
   ]
  },
  {
   "cell_type": "code",
   "execution_count": null,
   "metadata": {
    "scrolled": true
   },
   "outputs": [],
   "source": [
    "# barplot of yelp addresses that include \"NY\" or not\n",
    "ny_or_not = yelp_df['address'].apply(lambda x: 'NY' in x)\n",
    "ny_or_not_count = [sum(ny_or_not), len(ny_or_not)-sum(ny_or_not)]\n",
    "g = sns.barplot(x=['NY','Other'], y=ny_or_not_count)\n",
    "g_labels = g.set_xticklabels(g.get_xticklabels(), rotation=45, horizontalalignment='right')"
   ]
  },
  {
   "cell_type": "markdown",
   "metadata": {},
   "source": [
    "- Yelp API search parameters should be updated to exclude should results.\n",
    "- Reviews from off-target can easily be removed from database by restaurant_id"
   ]
  },
  {
   "cell_type": "markdown",
   "metadata": {},
   "source": [
    "### Let's see what are most common words in the reviews"
   ]
  },
  {
   "cell_type": "code",
   "execution_count": null,
   "metadata": {
    "scrolled": false
   },
   "outputs": [],
   "source": [
    "import string\n",
    "import matplotlib.pyplot as plt\n",
    "from wordcloud import WordCloud, STOPWORDS\n",
    "\n",
    "# convert the text to lower case\n",
    "yelp_reviews_df['review_text'] = yelp_reviews_df['review_text'].str.lower()\n",
    "\n",
    "# splitting and removing punctuations\n",
    "all_text = yelp_reviews_df['review_text'].str.replace('\\n', ' ').str.split()\n",
    "all_text_cleaned = []\n",
    "for text in all_text:\n",
    "    text = [x.strip(string.punctuation) for x in text]\n",
    "    all_text_cleaned.append(text)\n",
    "\n",
    "reviews_text = [' '.join(text) for text in all_text_cleaned]\n",
    "final_reviews_text = ' '.join(reviews_text)\n",
    "%store final_reviews_text\n",
    "\n",
    "# generate word cloud and plot\n",
    "wc = WordCloud(background_color=\"white\", collocations = False, width=800, height=400).generate(final_reviews_text)\n",
    "plt.figure(figsize=(20,10), facecolor='k')\n",
    "plt.imshow(wc, interpolation='bilinear')\n",
    "plt.axis(\"off\")\n",
    "plt.tight_layout(pad=0)\n",
    "plt.show()\n"
   ]
  },
  {
   "cell_type": "markdown",
   "metadata": {},
   "source": [
    "- 'halal' is obviously the most common word\n",
    "### What are most common words after 'halal'?"
   ]
  },
  {
   "cell_type": "code",
   "execution_count": null,
   "metadata": {
    "scrolled": false
   },
   "outputs": [],
   "source": [
    "# add 'halal' to stopwords so it's ignored\n",
    "stopwords = set(STOPWORDS)\n",
    "stopwords.update([\"halal\"])\n",
    "\n",
    "wc = WordCloud(stopwords=stopwords, background_color=\"white\", collocations = False, width=800, height=400).generate(final_reviews_text)\n",
    "plt.figure(figsize=(20,10), facecolor='k')\n",
    "plt.imshow(wc, interpolation='bilinear')\n",
    "plt.axis(\"off\")\n",
    "plt.tight_layout(pad=0)\n",
    "plt.show()"
   ]
  },
  {
   "cell_type": "markdown",
   "metadata": {},
   "source": [
    "- look into inclusion/ exclusion distribution of certain words"
   ]
  },
  {
   "cell_type": "markdown",
   "metadata": {},
   "source": [
    "### What are the most common words before/ after 'halal' in reviews text?"
   ]
  },
  {
   "cell_type": "code",
   "execution_count": 1,
   "metadata": {},
   "outputs": [],
   "source": [
    "# run under Spacy_env\n",
    "import spacy\n",
    "import pandas as pd\n",
    "\n",
    "nlp = spacy.load(\"en_core_web_sm\")\n",
    "\n",
    "# used preproccesed text data from wordcloud. Should consider using Spacy's proprocessing\n",
    "%store -r final_reviews_text\n",
    "reviews_string = nlp(final_reviews_text[:50000])\n",
    "\n",
    "def get_token_sent(token):\n",
    "    token_span = token.doc[token.i:token.i+1]\n",
    "    return token_span.sent\n",
    "\n",
    "def get_positions_df(my_string):\n",
    "    # collect data into pandas Dataframe\n",
    "    df = pd.DataFrame(columns=['sentence', 'index', '2-', '1-', '1+', '2+',\n",
    "                              '2-pos', '1-pos', '1+pos', '2+pos', '2-ent', '1-ent', '1+ent', '2+ent'])\n",
    "\n",
    "    for token in my_string:\n",
    "        if token.text == 'halal':\n",
    "            row = {\n",
    "                'sentence' : get_token_sent(my_string[token.i]),\n",
    "                'index' : token.i,\n",
    "                '2-' : my_string[token.i-2].lemma_,\n",
    "                '1-' : my_string[token.i-1].lemma_,\n",
    "                '1+' : my_string[token.i+1].lemma_,\n",
    "                '2+' : my_string[token.i+2].lemma_,\n",
    "                '2-pos' : my_string[token.i-2].pos_,\n",
    "                '1-pos' : my_string[token.i-1].pos_,\n",
    "                '1+pos' : my_string[token.i+1].pos_,\n",
    "                '2+pos' : my_string[token.i+2].pos_,\n",
    "                '2-ent' : spacy.explain(my_string[token.i-2].tag_),\n",
    "                '1-ent' : spacy.explain(my_string[token.i-1].tag_),\n",
    "                '1+ent' : spacy.explain(my_string[token.i+1].tag_),\n",
    "                '2+ent' : spacy.explain(my_string[token.i+2].tag_),\n",
    "            }\n",
    "            df = df.append(row, ignore_index=True)\n",
    "    return df"
   ]
  },
  {
   "cell_type": "code",
   "execution_count": 2,
   "metadata": {
    "scrolled": true
   },
   "outputs": [
    {
     "data": {
      "text/html": [
       "<div>\n",
       "<style scoped>\n",
       "    .dataframe tbody tr th:only-of-type {\n",
       "        vertical-align: middle;\n",
       "    }\n",
       "\n",
       "    .dataframe tbody tr th {\n",
       "        vertical-align: top;\n",
       "    }\n",
       "\n",
       "    .dataframe thead th {\n",
       "        text-align: right;\n",
       "    }\n",
       "</style>\n",
       "<table border=\"1\" class=\"dataframe\">\n",
       "  <thead>\n",
       "    <tr style=\"text-align: right;\">\n",
       "      <th></th>\n",
       "      <th>sentence</th>\n",
       "      <th>index</th>\n",
       "      <th>2-</th>\n",
       "      <th>1-</th>\n",
       "      <th>1+</th>\n",
       "      <th>2+</th>\n",
       "      <th>2-pos</th>\n",
       "      <th>1-pos</th>\n",
       "      <th>1+pos</th>\n",
       "      <th>2+pos</th>\n",
       "      <th>2-ent</th>\n",
       "      <th>1-ent</th>\n",
       "      <th>1+ent</th>\n",
       "      <th>2+ent</th>\n",
       "    </tr>\n",
       "  </thead>\n",
       "  <tbody>\n",
       "    <tr>\n",
       "      <th>0</th>\n",
       "      <td>(but, i, suppose, that, would, violate, this, ...</td>\n",
       "      <td>105</td>\n",
       "      <td>establishment</td>\n",
       "      <td>be</td>\n",
       "      <td>bottom</td>\n",
       "      <td>line</td>\n",
       "      <td>NOUN</td>\n",
       "      <td>AUX</td>\n",
       "      <td>ADJ</td>\n",
       "      <td>NOUN</td>\n",
       "      <td>noun, singular or mass</td>\n",
       "      <td>verb, gerund or present participle</td>\n",
       "      <td>adjective</td>\n",
       "      <td>noun, singular or mass</td>\n",
       "    </tr>\n",
       "    <tr>\n",
       "      <th>1</th>\n",
       "      <td>(has, a, delicious, menu, and, the, service, i...</td>\n",
       "      <td>231</td>\n",
       "      <td>-PRON-</td>\n",
       "      <td>serve</td>\n",
       "      <td>meat</td>\n",
       "      <td>i</td>\n",
       "      <td>PRON</td>\n",
       "      <td>VERB</td>\n",
       "      <td>NOUN</td>\n",
       "      <td>PRON</td>\n",
       "      <td>pronoun, personal</td>\n",
       "      <td>verb, non-3rd person singular present</td>\n",
       "      <td>noun, singular or mass</td>\n",
       "      <td>pronoun, personal</td>\n",
       "    </tr>\n",
       "    <tr>\n",
       "      <th>2</th>\n",
       "      <td>(very, good, halal, establishment, peri, peri,...</td>\n",
       "      <td>306</td>\n",
       "      <td>very</td>\n",
       "      <td>good</td>\n",
       "      <td>establishment</td>\n",
       "      <td>peri</td>\n",
       "      <td>ADV</td>\n",
       "      <td>ADJ</td>\n",
       "      <td>NOUN</td>\n",
       "      <td>PROPN</td>\n",
       "      <td>adverb</td>\n",
       "      <td>adjective</td>\n",
       "      <td>noun, singular or mass</td>\n",
       "      <td>noun, proper singular</td>\n",
       "    </tr>\n",
       "    <tr>\n",
       "      <th>3</th>\n",
       "      <td>(but, it, comes, very, close, to, being, that,...</td>\n",
       "      <td>380</td>\n",
       "      <td>the</td>\n",
       "      <td>good</td>\n",
       "      <td>food</td>\n",
       "      <td>in</td>\n",
       "      <td>DET</td>\n",
       "      <td>ADJ</td>\n",
       "      <td>NOUN</td>\n",
       "      <td>ADP</td>\n",
       "      <td>determiner</td>\n",
       "      <td>adjective, superlative</td>\n",
       "      <td>noun, singular or mass</td>\n",
       "      <td>conjunction, subordinating or preposition</td>\n",
       "    </tr>\n",
       "    <tr>\n",
       "      <th>4</th>\n",
       "      <td>(but, not, something, i, 'd, be, trekking, out...</td>\n",
       "      <td>474</td>\n",
       "      <td>who</td>\n",
       "      <td>eat</td>\n",
       "      <td>meat</td>\n",
       "      <td></td>\n",
       "      <td>PRON</td>\n",
       "      <td>VERB</td>\n",
       "      <td>NOUN</td>\n",
       "      <td>SPACE</td>\n",
       "      <td>wh-pronoun, personal</td>\n",
       "      <td>verb, non-3rd person singular present</td>\n",
       "      <td>noun, singular or mass</td>\n",
       "      <td>None</td>\n",
       "    </tr>\n",
       "  </tbody>\n",
       "</table>\n",
       "</div>"
      ],
      "text/plain": [
       "                                            sentence index             2-  \\\n",
       "0  (but, i, suppose, that, would, violate, this, ...   105  establishment   \n",
       "1  (has, a, delicious, menu, and, the, service, i...   231         -PRON-   \n",
       "2  (very, good, halal, establishment, peri, peri,...   306           very   \n",
       "3  (but, it, comes, very, close, to, being, that,...   380            the   \n",
       "4  (but, not, something, i, 'd, be, trekking, out...   474            who   \n",
       "\n",
       "      1-             1+    2+ 2-pos 1-pos 1+pos  2+pos  \\\n",
       "0     be         bottom  line  NOUN   AUX   ADJ   NOUN   \n",
       "1  serve           meat     i  PRON  VERB  NOUN   PRON   \n",
       "2   good  establishment  peri   ADV   ADJ  NOUN  PROPN   \n",
       "3   good           food    in   DET   ADJ  NOUN    ADP   \n",
       "4    eat           meat        PRON  VERB  NOUN  SPACE   \n",
       "\n",
       "                    2-ent                                  1-ent  \\\n",
       "0  noun, singular or mass     verb, gerund or present participle   \n",
       "1       pronoun, personal  verb, non-3rd person singular present   \n",
       "2                  adverb                              adjective   \n",
       "3              determiner                 adjective, superlative   \n",
       "4    wh-pronoun, personal  verb, non-3rd person singular present   \n",
       "\n",
       "                    1+ent                                      2+ent  \n",
       "0               adjective                     noun, singular or mass  \n",
       "1  noun, singular or mass                          pronoun, personal  \n",
       "2  noun, singular or mass                      noun, proper singular  \n",
       "3  noun, singular or mass  conjunction, subordinating or preposition  \n",
       "4  noun, singular or mass                                       None  "
      ]
     },
     "execution_count": 2,
     "metadata": {},
     "output_type": "execute_result"
    }
   ],
   "source": [
    "positions_df = get_positions_df(reviews_string)\n",
    "positions_df.head()"
   ]
  },
  {
   "cell_type": "code",
   "execution_count": 3,
   "metadata": {
    "scrolled": false
   },
   "outputs": [
    {
     "data": {
      "image/png": "[encoded data removed]",
      "text/plain": [
       "<Figure size 1440x720 with 12 Axes>"
      ]
     },
     "metadata": {
      "needs_background": "light"
     },
     "output_type": "display_data"
    }
   ],
   "source": [
    "import matplotlib.pyplot as plt\n",
    "\n",
    "fig = plt.figure(figsize=(20,10))\n",
    "columns = positions_df.columns[2:].to_list()\n",
    "\n",
    "for i, column in enumerate(columns):\n",
    "    labels = positions_df[column].value_counts()[:5].index \n",
    "    values = positions_df[column].value_counts()[:5]\n",
    "    ax = fig.add_subplot(3,4,i+1)\n",
    "    ax.bar(labels, values)\n",
    "    ax.set_title(column)\n",
    "    ax.set_xticklabels(labels , rotation=45, horizontalalignment='right')\n",
    "    \n",
    "plt.tight_layout()\n",
    "plt.show()"
   ]
  },
  {
   "cell_type": "code",
   "execution_count": 12,
   "metadata": {},
   "outputs": [
    {
     "data": {
      "text/plain": [
       "Index(['sentence', 'index', '2-', '1-', '1+', '2+', '2-pos', '1-pos', '1+pos',\n",
       "       '2+pos', '2-ent', '1-ent', '1+ent', '2+ent'],\n",
       "      dtype='object')"
      ]
     },
     "execution_count": 12,
     "metadata": {},
     "output_type": "execute_result"
    }
   ],
   "source": [
    "positions_df.columns"
   ]
  },
  {
   "cell_type": "code",
   "execution_count": 15,
   "metadata": {},
   "outputs": [
    {
     "data": {
      "image/png": "[encoded data removed]",
      "text/plain": [
       "<Figure size 1008x720 with 1 Axes>"
      ]
     },
     "metadata": {
      "needs_background": "light"
     },
     "output_type": "display_data"
    }
   ],
   "source": [
    "labels = positions_df['1+'].value_counts().index \n",
    "values = positions_df['1+'].value_counts()\n",
    "\n",
    "import matplotlib.pyplot as plt\n",
    "fig = plt.figure(figsize=(14,10))\n",
    "ax = fig.add_axes([0,0,1,1])\n",
    "\n",
    "ax.bar(labels,values)\n",
    "ax.set_xticklabels(labels , rotation=45, horizontalalignment='right')\n",
    "plt.show()"
   ]
  },
  {
   "cell_type": "code",
   "execution_count": 16,
   "metadata": {},
   "outputs": [
    {
     "data": {
      "text/plain": [
       "113"
      ]
     },
     "execution_count": 16,
     "metadata": {},
     "output_type": "execute_result"
    }
   ],
   "source": [
    "sum(positions_df['1+'].value_counts())"
   ]
  },
  {
   "cell_type": "markdown",
   "metadata": {},
   "source": [
    "### Features to consider\n",
    "- Need entity of 'Halal' to distinguish if it's adjective (Halal meat) vs. noun (Halal guys/food)\n",
    "- When 'Halal' is adjective, need sentiment of the sentence. Negative qualifiers. Capture negators\n",
    "- Wordcloud "
   ]
  },
  {
   "cell_type": "markdown",
   "metadata": {},
   "source": [
    "## Let's compare the two lists of halal restaurants"
   ]
  },
  {
   "cell_type": "code",
   "execution_count": null,
   "metadata": {
    "scrolled": true
   },
   "outputs": [],
   "source": [
    "# switch back to sm-project env\n",
    "import seaborn as sns \n",
    "\n",
    "target_df = pd.read_csv('/Users/wesamazaizeh/Desktop/Projects/halal_o_meter/src/data/data_collection/target_list.csv')\n",
    "target_match = target_df['validated_address'][target_df.source == 'Zabiha'].isin(target_df['validated_address'][target_df.source == 'Zomato'])\n",
    "target_match_count = [sum(target_match), len(target_match)-sum(target_match)]\n",
    "g = sns.barplot(x=['Zabiha & Zomato','Zabiha Only'], y=target_match_count)\n",
    "g_labels = g.set_xticklabels(g.get_xticklabels(), rotation=45, horizontalalignment='right')"
   ]
  },
  {
   "cell_type": "markdown",
   "metadata": {},
   "source": [
    "## How many of the target restaurants are in the yelp list?"
   ]
  },
  {
   "cell_type": "code",
   "execution_count": null,
   "metadata": {
    "scrolled": false
   },
   "outputs": [],
   "source": [
    "%store -r yelp_df\n",
    "\n",
    "yelp_df.head()"
   ]
  },
  {
   "cell_type": "code",
   "execution_count": null,
   "metadata": {},
   "outputs": [],
   "source": [
    "import re\n",
    "\n",
    "# cleanup yelp address\n",
    "yelp_df.address = yelp_df.address.str.lower()\n",
    "yelp_df.address = yelp_df.address.map(lambda address: re.sub(r'[^A-Za-z0-9, ]+', '', address).split(','))\n",
    "yelp_df.address = yelp_df.address.map(lambda address: ', '.join([str.strip() for str in address])+', usa')\n",
    "yelp_df.address[:5]"
   ]
  },
  {
   "cell_type": "code",
   "execution_count": null,
   "metadata": {
    "scrolled": true
   },
   "outputs": [],
   "source": [
    "import seaborn as sns\n",
    "import re\n",
    "\n",
    "# barplot of matching restaurant names between Yelp search and Zabiha.com's confirmed Halal restaurants\n",
    "target_df.validated_address = target_df.validated_address.str.lower()\n",
    "\n",
    "target_match = target_df['validated_address'].isin(yelp_df['address'])\n",
    "target_match_count = [sum(target_match), len(target_match)-sum(target_match)]\n",
    "g = sns.barplot(x=['Exists',\"Doesn't exist\"], y=target_match_count)\n",
    "g.set_title('How many of halal restaurants (Zabiha & Zomato)\\nare in yelp search results?')\n",
    "g_labels = g.set_xticklabels(g.get_xticklabels(), rotation=45, horizontalalignment='right')\n",
    "for p in g.patches:\n",
    "    g.annotate('{:.0f}'.format(p.get_height()), (p.get_x()+0.3, p.get_height()),\n",
    "                ha='center', va='bottom',\n",
    "                color= 'black')\n"
   ]
  },
  {
   "cell_type": "markdown",
   "metadata": {},
   "source": [
    "For address matching:\n",
    "    USPS address standerization free API"
   ]
  },
  {
   "cell_type": "markdown",
   "metadata": {},
   "source": [
    "- 2X2 (has halalXon zabiha)\n",
    "- add Google data\n",
    "- Yelp name to Google business_id then scrape that url"
   ]
  },
  {
   "cell_type": "code",
   "execution_count": null,
   "metadata": {},
   "outputs": [],
   "source": [
    "# num of restaurants with halal reviews\n",
    "reviews_df.restaurant_id.nunique()"
   ]
  },
  {
   "cell_type": "code",
   "execution_count": null,
   "metadata": {},
   "outputs": [],
   "source": [
    "target_df.head()"
   ]
  },
  {
   "cell_type": "code",
   "execution_count": null,
   "metadata": {
    "scrolled": true
   },
   "outputs": [],
   "source": [
    "# how many of those are also in Zabiha or Zomato's list by matching addresses?\n",
    "halal_mask = yelp_df['platform_id'].isin(reviews_df['restaurant_id'].unique())\n",
    "halal_df = yelp_df[halal_mask]\n",
    "address_match = halal_df['address'].isin(target_df['validated_address'])\n",
    "address_match_count = [sum(address_match), len(address_match)-sum(address_match)]\n",
    "g = sns.barplot(x=['Match    \\nby address','No match'], y=address_match_count)\n",
    "g.set_title('How many of Halal restaurants (Zabiha & Zomato) match\\naddresses of yelp restaurants with halal reviews?')\n",
    "g_labels = g.set_xticklabels(g.get_xticklabels(), rotation=45, horizontalalignment='right')\n",
    "for p in g.patches:\n",
    "    g.annotate('{:.0f}'.format(p.get_height()), (p.get_x()+0.3, p.get_height()),\n",
    "                ha='center', va='bottom',\n",
    "                color= 'black')"
   ]
  },
  {
   "cell_type": "code",
   "execution_count": null,
   "metadata": {},
   "outputs": [],
   "source": [
    "# about matching by name?\n",
    "name_match = halal_df['name'].isin(target_df['name'])\n",
    "name_match_count = [sum(name_match), len(name_match)-sum(name_match)]\n",
    "g = sns.barplot(x=['Match  \\nby name','No match'], y=name_match_count)\n",
    "g.set_title('How many of Halal restaurants (Zabiha & Zomato) match\\nthe names of yelp restaurants with halal reviews?')\n",
    "g_labels = g.set_xticklabels(g.get_xticklabels(), rotation=45, horizontalalignment='right')\n",
    "for p in g.patches:\n",
    "    g.annotate('{:.0f}'.format(p.get_height()), (p.get_x()+0.3, p.get_height()),\n",
    "                ha='center', va='bottom',color= 'black')"
   ]
  },
  {
   "cell_type": "code",
   "execution_count": null,
   "metadata": {},
   "outputs": [],
   "source": [
    "# which restaurants are mismatched between name and address? chain restaurants with non-unique names?\n",
    "address_and_name_match = halal_df[name_match][halal_df[name_match].index.isin(halal_df[address_match].index)]\n",
    "\n",
    "address_yes = address_match.sum()\n",
    "name_yes = name_match.sum()\n",
    "address_name_yes = address_and_name_match.shape[0]\n",
    "r1 = ['       ', '   ' , 'Name', 'Match','' ]\n",
    "r2 = ['       ', '   ' , 'Yes ','No   ','' ]\n",
    "r3 = ['Address', 'Yes', str(address_name_yes)+'  ', str(address_yes - address_name_yes)+'   ', str(address_yes)]\n",
    "r4 = ['Match  ', 'No ', str(name_yes-address_name_yes)+'  ', '669  ',str(len(address_match)-address_yes)]\n",
    "r5 = ['       ', '   ', str(name_yes)+' ', str(len(name_match)-name_yes)+'  ', '' ]\n",
    "\n",
    "for row in (r1,r2,r3,r4,r5):\n",
    "    print('|'.join(row))"
   ]
  },
  {
   "cell_type": "code",
   "execution_count": null,
   "metadata": {},
   "outputs": [],
   "source": []
  }
 ],
 "metadata": {
  "kernelspec": {
   "display_name": "Spacy_env",
   "language": "python",
   "name": "spacy_env"
  },
  "language_info": {
   "codemirror_mode": {
    "name": "ipython",
    "version": 3
   },
   "file_extension": ".py",
   "mimetype": "text/x-python",
   "name": "python",
   "nbconvert_exporter": "python",
   "pygments_lexer": "ipython3",
   "version": "3.6.10"
  }
 },
 "nbformat": 4,
 "nbformat_minor": 2
}
